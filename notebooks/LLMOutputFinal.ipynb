{
  "nbformat": 4,
  "nbformat_minor": 0,
  "metadata": {
    "colab": {
      "provenance": []
    },
    "kernelspec": {
      "name": "python3",
      "display_name": "Python 3"
    },
    "language_info": {
      "name": "python"
    }
  },
  "cells": [
    {
      "cell_type": "code",
      "source": [
        "!pip install requests gradio"
      ],
      "metadata": {
        "colab": {
          "base_uri": "https://localhost:8080/"
        },
        "id": "2xs4ptLLxkEB",
        "outputId": "a3fb67d4-263a-4a47-d954-b8862a2884ed"
      },
      "execution_count": null,
      "outputs": [
        {
          "output_type": "stream",
          "name": "stdout",
          "text": [
            "Requirement already satisfied: requests in /usr/local/lib/python3.10/dist-packages (2.32.3)\n",
            "Collecting gradio\n",
            "  Downloading gradio-5.4.0-py3-none-any.whl.metadata (16 kB)\n",
            "Requirement already satisfied: charset-normalizer<4,>=2 in /usr/local/lib/python3.10/dist-packages (from requests) (3.4.0)\n",
            "Requirement already satisfied: idna<4,>=2.5 in /usr/local/lib/python3.10/dist-packages (from requests) (3.10)\n",
            "Requirement already satisfied: urllib3<3,>=1.21.1 in /usr/local/lib/python3.10/dist-packages (from requests) (2.2.3)\n",
            "Requirement already satisfied: certifi>=2017.4.17 in /usr/local/lib/python3.10/dist-packages (from requests) (2024.8.30)\n",
            "Collecting aiofiles<24.0,>=22.0 (from gradio)\n",
            "  Downloading aiofiles-23.2.1-py3-none-any.whl.metadata (9.7 kB)\n",
            "Requirement already satisfied: anyio<5.0,>=3.0 in /usr/local/lib/python3.10/dist-packages (from gradio) (3.7.1)\n",
            "Collecting fastapi<1.0,>=0.115.2 (from gradio)\n",
            "  Downloading fastapi-0.115.3-py3-none-any.whl.metadata (27 kB)\n",
            "Collecting ffmpy (from gradio)\n",
            "  Downloading ffmpy-0.4.0-py3-none-any.whl.metadata (2.9 kB)\n",
            "Collecting gradio-client==1.4.2 (from gradio)\n",
            "  Downloading gradio_client-1.4.2-py3-none-any.whl.metadata (7.1 kB)\n",
            "Collecting httpx>=0.24.1 (from gradio)\n",
            "  Downloading httpx-0.27.2-py3-none-any.whl.metadata (7.1 kB)\n",
            "Collecting huggingface-hub>=0.25.1 (from gradio)\n",
            "  Downloading huggingface_hub-0.26.1-py3-none-any.whl.metadata (13 kB)\n",
            "Requirement already satisfied: jinja2<4.0 in /usr/local/lib/python3.10/dist-packages (from gradio) (3.1.4)\n",
            "Collecting markupsafe~=2.0 (from gradio)\n",
            "  Downloading MarkupSafe-2.1.5-cp310-cp310-manylinux_2_17_x86_64.manylinux2014_x86_64.whl.metadata (3.0 kB)\n",
            "Requirement already satisfied: numpy<3.0,>=1.0 in /usr/local/lib/python3.10/dist-packages (from gradio) (1.26.4)\n",
            "Collecting orjson~=3.0 (from gradio)\n",
            "  Downloading orjson-3.10.10-cp310-cp310-manylinux_2_17_x86_64.manylinux2014_x86_64.whl.metadata (50 kB)\n",
            "\u001b[2K     \u001b[90m━━━━━━━━━━━━━━━━━━━━━━━━━━━━━━━━━━━━━━━━\u001b[0m \u001b[32m50.6/50.6 kB\u001b[0m \u001b[31m393.6 kB/s\u001b[0m eta \u001b[36m0:00:00\u001b[0m\n",
            "\u001b[?25hRequirement already satisfied: packaging in /usr/local/lib/python3.10/dist-packages (from gradio) (24.1)\n",
            "Requirement already satisfied: pandas<3.0,>=1.0 in /usr/local/lib/python3.10/dist-packages (from gradio) (2.2.2)\n",
            "Requirement already satisfied: pillow<12.0,>=8.0 in /usr/local/lib/python3.10/dist-packages (from gradio) (10.4.0)\n",
            "Requirement already satisfied: pydantic>=2.0 in /usr/local/lib/python3.10/dist-packages (from gradio) (2.9.2)\n",
            "Collecting pydub (from gradio)\n",
            "  Downloading pydub-0.25.1-py2.py3-none-any.whl.metadata (1.4 kB)\n",
            "Collecting python-multipart==0.0.12 (from gradio)\n",
            "  Downloading python_multipart-0.0.12-py3-none-any.whl.metadata (1.9 kB)\n",
            "Requirement already satisfied: pyyaml<7.0,>=5.0 in /usr/local/lib/python3.10/dist-packages (from gradio) (6.0.2)\n",
            "Collecting ruff>=0.2.2 (from gradio)\n",
            "  Downloading ruff-0.7.1-py3-none-manylinux_2_17_x86_64.manylinux2014_x86_64.whl.metadata (25 kB)\n",
            "Collecting safehttpx<1.0,>=0.1.1 (from gradio)\n",
            "  Downloading safehttpx-0.1.1-py3-none-any.whl.metadata (4.1 kB)\n",
            "Collecting semantic-version~=2.0 (from gradio)\n",
            "  Downloading semantic_version-2.10.0-py2.py3-none-any.whl.metadata (9.7 kB)\n",
            "Collecting starlette<1.0,>=0.40.0 (from gradio)\n",
            "  Downloading starlette-0.41.0-py3-none-any.whl.metadata (6.0 kB)\n",
            "Collecting tomlkit==0.12.0 (from gradio)\n",
            "  Downloading tomlkit-0.12.0-py3-none-any.whl.metadata (2.7 kB)\n",
            "Requirement already satisfied: typer<1.0,>=0.12 in /usr/local/lib/python3.10/dist-packages (from gradio) (0.12.5)\n",
            "Requirement already satisfied: typing-extensions~=4.0 in /usr/local/lib/python3.10/dist-packages (from gradio) (4.12.2)\n",
            "Collecting uvicorn>=0.14.0 (from gradio)\n",
            "  Downloading uvicorn-0.32.0-py3-none-any.whl.metadata (6.6 kB)\n",
            "Requirement already satisfied: fsspec in /usr/local/lib/python3.10/dist-packages (from gradio-client==1.4.2->gradio) (2024.6.1)\n",
            "Collecting websockets<13.0,>=10.0 (from gradio-client==1.4.2->gradio)\n",
            "  Downloading websockets-12.0-cp310-cp310-manylinux_2_5_x86_64.manylinux1_x86_64.manylinux_2_17_x86_64.manylinux2014_x86_64.whl.metadata (6.6 kB)\n",
            "Requirement already satisfied: sniffio>=1.1 in /usr/local/lib/python3.10/dist-packages (from anyio<5.0,>=3.0->gradio) (1.3.1)\n",
            "Requirement already satisfied: exceptiongroup in /usr/local/lib/python3.10/dist-packages (from anyio<5.0,>=3.0->gradio) (1.2.2)\n",
            "Collecting httpcore==1.* (from httpx>=0.24.1->gradio)\n",
            "  Downloading httpcore-1.0.6-py3-none-any.whl.metadata (21 kB)\n",
            "Collecting h11<0.15,>=0.13 (from httpcore==1.*->httpx>=0.24.1->gradio)\n",
            "  Downloading h11-0.14.0-py3-none-any.whl.metadata (8.2 kB)\n",
            "Requirement already satisfied: filelock in /usr/local/lib/python3.10/dist-packages (from huggingface-hub>=0.25.1->gradio) (3.16.1)\n",
            "Requirement already satisfied: tqdm>=4.42.1 in /usr/local/lib/python3.10/dist-packages (from huggingface-hub>=0.25.1->gradio) (4.66.5)\n",
            "Requirement already satisfied: python-dateutil>=2.8.2 in /usr/local/lib/python3.10/dist-packages (from pandas<3.0,>=1.0->gradio) (2.8.2)\n",
            "Requirement already satisfied: pytz>=2020.1 in /usr/local/lib/python3.10/dist-packages (from pandas<3.0,>=1.0->gradio) (2024.2)\n",
            "Requirement already satisfied: tzdata>=2022.7 in /usr/local/lib/python3.10/dist-packages (from pandas<3.0,>=1.0->gradio) (2024.2)\n",
            "Requirement already satisfied: annotated-types>=0.6.0 in /usr/local/lib/python3.10/dist-packages (from pydantic>=2.0->gradio) (0.7.0)\n",
            "Requirement already satisfied: pydantic-core==2.23.4 in /usr/local/lib/python3.10/dist-packages (from pydantic>=2.0->gradio) (2.23.4)\n",
            "Requirement already satisfied: click>=8.0.0 in /usr/local/lib/python3.10/dist-packages (from typer<1.0,>=0.12->gradio) (8.1.7)\n",
            "Requirement already satisfied: shellingham>=1.3.0 in /usr/local/lib/python3.10/dist-packages (from typer<1.0,>=0.12->gradio) (1.5.4)\n",
            "Requirement already satisfied: rich>=10.11.0 in /usr/local/lib/python3.10/dist-packages (from typer<1.0,>=0.12->gradio) (13.9.3)\n",
            "Requirement already satisfied: six>=1.5 in /usr/local/lib/python3.10/dist-packages (from python-dateutil>=2.8.2->pandas<3.0,>=1.0->gradio) (1.16.0)\n",
            "Requirement already satisfied: markdown-it-py>=2.2.0 in /usr/local/lib/python3.10/dist-packages (from rich>=10.11.0->typer<1.0,>=0.12->gradio) (3.0.0)\n",
            "Requirement already satisfied: pygments<3.0.0,>=2.13.0 in /usr/local/lib/python3.10/dist-packages (from rich>=10.11.0->typer<1.0,>=0.12->gradio) (2.18.0)\n",
            "Requirement already satisfied: mdurl~=0.1 in /usr/local/lib/python3.10/dist-packages (from markdown-it-py>=2.2.0->rich>=10.11.0->typer<1.0,>=0.12->gradio) (0.1.2)\n",
            "Downloading gradio-5.4.0-py3-none-any.whl (56.7 MB)\n",
            "\u001b[2K   \u001b[90m━━━━━━━━━━━━━━━━━━━━━━━━━━━━━━━━━━━━━━━━\u001b[0m \u001b[32m56.7/56.7 MB\u001b[0m \u001b[31m14.5 MB/s\u001b[0m eta \u001b[36m0:00:00\u001b[0m\n",
            "\u001b[?25hDownloading gradio_client-1.4.2-py3-none-any.whl (319 kB)\n",
            "\u001b[2K   \u001b[90m━━━━━━━━━━━━━━━━━━━━━━━━━━━━━━━━━━━━━━━━\u001b[0m \u001b[32m319.8/319.8 kB\u001b[0m \u001b[31m13.1 MB/s\u001b[0m eta \u001b[36m0:00:00\u001b[0m\n",
            "\u001b[?25hDownloading python_multipart-0.0.12-py3-none-any.whl (23 kB)\n",
            "Downloading tomlkit-0.12.0-py3-none-any.whl (37 kB)\n",
            "Downloading aiofiles-23.2.1-py3-none-any.whl (15 kB)\n",
            "Downloading fastapi-0.115.3-py3-none-any.whl (94 kB)\n",
            "\u001b[2K   \u001b[90m━━━━━━━━━━━━━━━━━━━━━━━━━━━━━━━━━━━━━━━━\u001b[0m \u001b[32m94.6/94.6 kB\u001b[0m \u001b[31m3.8 MB/s\u001b[0m eta \u001b[36m0:00:00\u001b[0m\n",
            "\u001b[?25hDownloading httpx-0.27.2-py3-none-any.whl (76 kB)\n",
            "\u001b[2K   \u001b[90m━━━━━━━━━━━━━━━━━━━━━━━━━━━━━━━━━━━━━━━━\u001b[0m \u001b[32m76.4/76.4 kB\u001b[0m \u001b[31m4.2 MB/s\u001b[0m eta \u001b[36m0:00:00\u001b[0m\n",
            "\u001b[?25hDownloading httpcore-1.0.6-py3-none-any.whl (78 kB)\n",
            "\u001b[2K   \u001b[90m━━━━━━━━━━━━━━━━━━━━━━━━━━━━━━━━━━━━━━━━\u001b[0m \u001b[32m78.0/78.0 kB\u001b[0m \u001b[31m3.4 MB/s\u001b[0m eta \u001b[36m0:00:00\u001b[0m\n",
            "\u001b[?25hDownloading huggingface_hub-0.26.1-py3-none-any.whl (447 kB)\n",
            "\u001b[2K   \u001b[90m━━━━━━━━━━━━━━━━━━━━━━━━━━━━━━━━━━━━━━━━\u001b[0m \u001b[32m447.4/447.4 kB\u001b[0m \u001b[31m17.6 MB/s\u001b[0m eta \u001b[36m0:00:00\u001b[0m\n",
            "\u001b[?25hDownloading MarkupSafe-2.1.5-cp310-cp310-manylinux_2_17_x86_64.manylinux2014_x86_64.whl (25 kB)\n",
            "Downloading orjson-3.10.10-cp310-cp310-manylinux_2_17_x86_64.manylinux2014_x86_64.whl (144 kB)\n",
            "\u001b[2K   \u001b[90m━━━━━━━━━━━━━━━━━━━━━━━━━━━━━━━━━━━━━━━━\u001b[0m \u001b[32m144.5/144.5 kB\u001b[0m \u001b[31m7.9 MB/s\u001b[0m eta \u001b[36m0:00:00\u001b[0m\n",
            "\u001b[?25hDownloading ruff-0.7.1-py3-none-manylinux_2_17_x86_64.manylinux2014_x86_64.whl (11.0 MB)\n",
            "\u001b[2K   \u001b[90m━━━━━━━━━━━━━━━━━━━━━━━━━━━━━━━━━━━━━━━━\u001b[0m \u001b[32m11.0/11.0 MB\u001b[0m \u001b[31m23.7 MB/s\u001b[0m eta \u001b[36m0:00:00\u001b[0m\n",
            "\u001b[?25hDownloading safehttpx-0.1.1-py3-none-any.whl (8.4 kB)\n",
            "Downloading semantic_version-2.10.0-py2.py3-none-any.whl (15 kB)\n",
            "Downloading starlette-0.41.0-py3-none-any.whl (73 kB)\n",
            "\u001b[2K   \u001b[90m━━━━━━━━━━━━━━━━━━━━━━━━━━━━━━━━━━━━━━━━\u001b[0m \u001b[32m73.2/73.2 kB\u001b[0m \u001b[31m5.2 MB/s\u001b[0m eta \u001b[36m0:00:00\u001b[0m\n",
            "\u001b[?25hDownloading uvicorn-0.32.0-py3-none-any.whl (63 kB)\n",
            "\u001b[2K   \u001b[90m━━━━━━━━━━━━━━━━━━━━━━━━━━━━━━━━━━━━━━━━\u001b[0m \u001b[32m63.7/63.7 kB\u001b[0m \u001b[31m4.0 MB/s\u001b[0m eta \u001b[36m0:00:00\u001b[0m\n",
            "\u001b[?25hDownloading ffmpy-0.4.0-py3-none-any.whl (5.8 kB)\n",
            "Downloading pydub-0.25.1-py2.py3-none-any.whl (32 kB)\n",
            "Downloading h11-0.14.0-py3-none-any.whl (58 kB)\n",
            "\u001b[2K   \u001b[90m━━━━━━━━━━━━━━━━━━━━━━━━━━━━━━━━━━━━━━━━\u001b[0m \u001b[32m58.3/58.3 kB\u001b[0m \u001b[31m3.4 MB/s\u001b[0m eta \u001b[36m0:00:00\u001b[0m\n",
            "\u001b[?25hDownloading websockets-12.0-cp310-cp310-manylinux_2_5_x86_64.manylinux1_x86_64.manylinux_2_17_x86_64.manylinux2014_x86_64.whl (130 kB)\n",
            "\u001b[2K   \u001b[90m━━━━━━━━━━━━━━━━━━━━━━━━━━━━━━━━━━━━━━━━\u001b[0m \u001b[32m130.2/130.2 kB\u001b[0m \u001b[31m9.3 MB/s\u001b[0m eta \u001b[36m0:00:00\u001b[0m\n",
            "\u001b[?25hInstalling collected packages: pydub, websockets, tomlkit, semantic-version, ruff, python-multipart, orjson, markupsafe, h11, ffmpy, aiofiles, uvicorn, starlette, huggingface-hub, httpcore, httpx, fastapi, safehttpx, gradio-client, gradio\n",
            "  Attempting uninstall: markupsafe\n",
            "    Found existing installation: MarkupSafe 3.0.2\n",
            "    Uninstalling MarkupSafe-3.0.2:\n",
            "      Successfully uninstalled MarkupSafe-3.0.2\n",
            "  Attempting uninstall: huggingface-hub\n",
            "    Found existing installation: huggingface-hub 0.24.7\n",
            "    Uninstalling huggingface-hub-0.24.7:\n",
            "      Successfully uninstalled huggingface-hub-0.24.7\n",
            "Successfully installed aiofiles-23.2.1 fastapi-0.115.3 ffmpy-0.4.0 gradio-5.4.0 gradio-client-1.4.2 h11-0.14.0 httpcore-1.0.6 httpx-0.27.2 huggingface-hub-0.26.1 markupsafe-2.1.5 orjson-3.10.10 pydub-0.25.1 python-multipart-0.0.12 ruff-0.7.1 safehttpx-0.1.1 semantic-version-2.10.0 starlette-0.41.0 tomlkit-0.12.0 uvicorn-0.32.0 websockets-12.0\n"
          ]
        }
      ]
    },
    {
      "cell_type": "code",
      "execution_count": null,
      "metadata": {
        "id": "X_kufNV351Ys"
      },
      "outputs": [],
      "source": [
        "import requests\n",
        "import pandas as pd\n",
        "import gradio as gr\n",
        "\n",
        "# API key and user ID for the new API\n",
        "api_key = 'KGSjxB1uptfSk8I8A7ciCuNT9Xa3qWC3'\n",
        "external_user_id = 'plugin-1717464304'"
      ]
    },
    {
      "cell_type": "code",
      "source": [
        "# Step 1: Create a chat session\n",
        "def create_chat_session():\n",
        "    create_session_url = 'https://api.on-demand.io/chat/v1/sessions'\n",
        "    create_session_headers = {\n",
        "        'apikey': api_key\n",
        "    }\n",
        "    create_session_body = {\n",
        "        \"pluginIds\": [],\n",
        "        \"externalUserId\": external_user_id\n",
        "    }\n",
        "    # Make the request to create a chat session\n",
        "    response = requests.post(create_session_url, headers=create_session_headers, json=create_session_body)\n",
        "    response_data = response.json()\n",
        "    session_id = response_data['data']['id']\n",
        "    return session_id"
      ],
      "metadata": {
        "id": "HcSNYVn155e1"
      },
      "execution_count": null,
      "outputs": []
    },
    {
      "cell_type": "code",
      "source": [
        "# Step 2: Submit a query to the API\n",
        "def submit_query(session_id, query):\n",
        "    submit_query_url = f'https://api.on-demand.io/chat/v1/sessions/{session_id}/query'\n",
        "    submit_query_headers = {\n",
        "        'apikey': api_key\n",
        "    }\n",
        "    submit_query_body = {\n",
        "        \"endpointId\": \"predefined-openai-gpt4o\",\n",
        "        \"query\": query,\n",
        "        \"pluginIds\": [\"plugin-1712327325\", \"plugin-1713962163\"],\n",
        "        \"responseMode\": \"sync\"\n",
        "    }\n",
        "    response = requests.post(submit_query_url, headers=submit_query_headers, json=submit_query_body)\n",
        "    return response.json()"
      ],
      "metadata": {
        "id": "m-9RpmR358Gq"
      },
      "execution_count": null,
      "outputs": []
    },
    {
      "cell_type": "code",
      "source": [
        "# Step 3: Create a prompt with context examples and explicitly ask for diagnosis, treatment, etc.\n",
        "def create_prompt(patient_info, query_type, context_examples):\n",
        "    \"\"\"Creates a well-engineered prompt to ask for diagnosis, most probable diagnosis, treatment, lifestyle modifications, and medications.\"\"\"\n",
        "    prompt_examples = {\n",
        "        \"diagnosis\": \"\"\"Example: A 45-year-old female presents with severe daily headaches, occasional dizziness, and hypertension. MRI shows mild optic nerve swelling.\n",
        "        Symptoms: Headaches, dizziness, hypertension, optic nerve swelling\n",
        "        Possible diagnoses: Idiopathic intracranial hypertension (IIH), migraine, pseudotumor cerebri\n",
        "        Most probable diagnosis: IIH due to elevated intracranial pressure\n",
        "        Treatment plan: Acetazolamide to reduce ICP, regular eye exams to monitor for vision changes, weight loss if obesity is a factor.\n",
        "        Lifestyle modifications: Weight loss, low-sodium diet, regular check-ups\n",
        "        Medications: Acetazolamide, aspirin, diuretics if needed\n",
        "        \"\"\",\n",
        "\n",
        "        \"treatment\": \"\"\"Example: A 55-year-old female presents with shortness of breath, chest tightness, and occasional vision disturbances. MRI shows small areas of white matter hyperintensities.\n",
        "        Symptoms: Shortness of breath, chest pain, white matter hyperintensities\n",
        "        Possible diagnoses: Transient ischemic attack (TIA), small vessel ischemic disease, coronary artery disease (CAD)\n",
        "        Most probable diagnosis: TIA due to reduced blood flow in the brain\n",
        "        Treatment plan: Aspirin or other anticoagulants, statins for CAD, lifestyle changes to manage hypertension.\n",
        "        Lifestyle modifications: Healthy diet, regular exercise, smoking cessation\n",
        "        Medications: Aspirin, statins, beta-blockers\n",
        "        \"\"\"\n",
        "    }\n",
        "\n",
        "    example = prompt_examples.get(query_type, \"\")\n",
        "    prompt = f\"\"\"\n",
        "    Patient Information: {patient_info}\n",
        "    Please provide the following:\n",
        "    - Diagnosis\n",
        "    - Most probable diagnosis\n",
        "    - Treatment plan\n",
        "    - Lifestyle modifications\n",
        "    - Medications\n",
        "    \"\"\"\n",
        "\n",
        "    return prompt"
      ],
      "metadata": {
        "id": "iRbJ5lET59Fx"
      },
      "execution_count": null,
      "outputs": []
    },
    {
      "cell_type": "code",
      "source": [],
      "metadata": {
        "id": "IxpIX_kh6aOj"
      },
      "execution_count": null,
      "outputs": []
    },
    {
      "cell_type": "code",
      "source": [
        "# Step 4: Log patient data and responses\n",
        "def log_patient_data(patient_info, query_type, response_text):\n",
        "    \"\"\"Logs patient query and generated response.\"\"\"\n",
        "    log_entry = {\n",
        "        \"patient_info\": patient_info,\n",
        "        \"query_type\": query_type,\n",
        "        \"response\": response_text\n",
        "    }\n",
        "    return log_entry"
      ],
      "metadata": {
        "id": "q54CbMrQ6Fjo"
      },
      "execution_count": null,
      "outputs": []
    },
    {
      "cell_type": "code",
      "source": [
        "# Step 5: Format the response for better readability and ensure each section is highlighted\n",
        "def format_response(response_text):\n",
        "    \"\"\"Formats the response to improve readability and ensure the diagnosis, treatment plan, etc. are properly displayed.\"\"\"\n",
        "    # Replace \"\\n\\n\" with clear breaks and ensure sections are properly formatted\n",
        "    formatted_response = response_text.replace(\"\\\\n\\\\n\", \"\\n\\n\").replace(\"\\\\n\", \"\\n\")\n",
        "\n",
        "    # Add indentation or section titles for the expected fields\n",
        "    sections = [\"Diagnosis\", \"Most probable diagnosis\", \"Treatment plan\", \"Lifestyle modifications\", \"Medications\"]\n",
        "    for section in sections:\n",
        "        formatted_response = formatted_response.replace(section, f\"\\n--- {section} ---\\n\")\n",
        "\n",
        "    # Optionally, you could enhance readability further with line breaks\n",
        "    formatted_response = \"\\n--- Patient Recommendations ---\\n\" + formatted_response.strip()\n",
        "\n",
        "    print(formatted_response)"
      ],
      "metadata": {
        "id": "IseUMZxo6InL"
      },
      "execution_count": null,
      "outputs": []
    },
    {
      "cell_type": "code",
      "source": [
        "def submit_query(session_id, query):\n",
        "    \"\"\"Submits a query to the API and returns the response text.\"\"\"\n",
        "    submit_query_url = f'https://api.on-demand.io/chat/v1/sessions/{session_id}/query'\n",
        "    submit_query_headers = {\n",
        "        'apikey': 'KGSjxB1uptfSk8I8A7ciCuNT9Xa3qWC3'\n",
        "    }\n",
        "    submit_query_body = {\n",
        "        \"endpointId\": \"predefined-openai-gpt4o\",\n",
        "        \"query\": query,\n",
        "        \"pluginIds\": [\"plugin-1712327325\", \"plugin-1713962163\"],\n",
        "        \"responseMode\": \"sync\"\n",
        "    }\n",
        "\n",
        "    response = requests.post(submit_query_url, headers=submit_query_headers, json=submit_query_body)\n",
        "\n",
        "    # Debugging - print the entire response\n",
        "    print(f\"Full Response: {response.json()}\")\n",
        "\n",
        "    return response.json()"
      ],
      "metadata": {
        "id": "8I3ZO6VX8Bh-"
      },
      "execution_count": null,
      "outputs": []
    },
    {
      "cell_type": "code",
      "source": [
        "# Step 6: Generate and submit a query with context examples, log responses\n",
        "def generate_query_response(patient_info, query_type, logs, context_examples):\n",
        "    session_id = create_chat_session()  # Start the session\n",
        "    prompt = create_prompt(patient_info, query_type, context_examples)\n",
        "    print(f\"Generated Prompt: {prompt}\")  # Debugging line\n",
        "    response = submit_query(session_id, prompt)  # Submit the query to the new API\n",
        "\n",
        "    if 'data' in response and 'answer' in response['data']:\n",
        "        answer = response['data']['answer']  # Extract only the 'answer' field\n",
        "        format_response(answer)  # Format and print the answer text\n",
        "        logs.append(log_patient_data(patient_info, query_type, answer))  # Log the answer\n",
        "        return answer\n",
        "    else:\n",
        "        print(\"No valid response received. Please try again.\")"
      ],
      "metadata": {
        "id": "gN31rEV-6K8G"
      },
      "execution_count": null,
      "outputs": []
    },
    {
      "cell_type": "code",
      "source": [
        "# Context examples (same as before)\n",
        "context_examples = [\n",
        "    {\n",
        "        \"input\": \"A 45-year-old female presents with severe daily headaches, occasional dizziness, and hypertension. MRI shows mild optic nerve swelling.\",\n",
        "        \"output\": \"\"\"\n",
        "        Symptoms: Headaches, dizziness, hypertension, optic nerve swelling\n",
        "        Possible diagnoses: Idiopathic intracranial hypertension (IIH), migraine, pseudotumor cerebri\n",
        "        Most probable diagnosis: Idiopathic intracranial hypertension (IIH)\n",
        "        Management: Acetazolamide to reduce ICP, regular eye exams to monitor for vision changes, weight loss if obesity is a factor\n",
        "        Complications: Permanent vision loss due to prolonged papilledema\n",
        "        \"\"\"\n",
        "    },\n",
        "    {\n",
        "        \"input\": \"A 55-year-old female presents with shortness of breath, chest tightness, and occasional vision disturbances. MRI shows small areas of white matter hyperintensities.\",\n",
        "        \"output\": \"\"\"\n",
        "        Symptoms: Shortness of breath, chest pain, white matter hyperintensities\n",
        "        Possible diagnoses: Transient ischemic attack (TIA), small vessel ischemic disease, coronary artery disease (CAD)\n",
        "        Most probable diagnosis: Transient ischemic attack (TIA)\n",
        "        Treatment: Aspirin or other anticoagulants, statins for CAD, lifestyle changes to manage hypertension\n",
        "        \"\"\"\n",
        "    }\n",
        "]\n"
      ],
      "metadata": {
        "id": "9DBHVMfqzZKK"
      },
      "execution_count": null,
      "outputs": []
    },
    {
      "cell_type": "code",
      "source": [
        "# Enter your prompts here\n",
        "prompts = [\n",
        "    {\n",
        "        \"patient_info\": \"A 48-year-old male presents with intermittent blurred vision, chronic daily headaches, and nausea, worsening over the past 2 months. MRI shows 66% chance of Glioma Tumor and a 20% chance of ischemic stroke\",\n",
        "        \"query_type\": \"diagnosis\"\n",
        "    },\n",
        "    {\n",
        "        \"patient_info\": \"A 60-year-old male patient has been experiencing intermittent chest pain, shortness of breath, and unexplained dizziness for the past 3 months. MRI results show normal brain conditions\",\n",
        "        \"query_type\": \"treatment\"\n",
        "    }\n",
        "]"
      ],
      "metadata": {
        "id": "56vy87oLzbM8"
      },
      "execution_count": null,
      "outputs": []
    },
    {
      "cell_type": "code",
      "source": [
        "# Step 7: Execute and get responses for a patient case\n",
        "logs = []\n",
        "patient_info = \"A 60-year-old male patient has been experiencing intermittent chest pain, shortness of breath, and unexplained dizziness for the past 3 months. MRI results show normal brain conditions\"\n",
        "query_type = \"diagnosis\"\n",
        "output = generate_query_response(patient_info, query_type, logs, context_examples)"
      ],
      "metadata": {
        "colab": {
          "base_uri": "https://localhost:8080/"
        },
        "id": "1nN61vpE6OTj",
        "outputId": "642a9cc3-3f38-417a-8b8f-d1b183ce941b"
      },
      "execution_count": null,
      "outputs": [
        {
          "output_type": "stream",
          "name": "stdout",
          "text": [
            "Generated Prompt: \n",
            "    Patient Information: A 60-year-old male patient has been experiencing intermittent chest pain, shortness of breath, and unexplained dizziness for the past 3 months. MRI results show normal brain conditions\n",
            "    Please provide the following:\n",
            "    - Diagnosis\n",
            "    - Most probable diagnosis\n",
            "    - Treatment plan\n",
            "    - Lifestyle modifications\n",
            "    - Medications\n",
            "    \n",
            "Full Response: {'message': 'Chat query submitted successfully', 'data': {'sessionId': '671c262b0b25466bf27c480b', 'messageId': '671c262b0b25466bf27c480c', 'answer': \"Based on the information provided:\\n\\n- **Diagnosis**: The symptoms of intermittent chest pain, shortness of breath, and dizziness in a 60-year-old male could suggest a cardiovascular issue, such as angina or coronary artery disease.\\n\\n- **Most Probable Diagnosis**: Angina pectoris is the most probable diagnosis, given the symptoms and the patient's age.\\n\\n- **Treatment Plan**: The treatment plan may involve managing the underlying cardiovascular condition, which could include lifestyle changes, medications, and possibly procedures like angioplasty or coronary artery bypass surgery if necessary.\\n\\n- **Lifestyle Modifications**: \\n  - Adopt a heart-healthy diet low in saturated fats, cholesterol, and sodium.\\n  - Engage in regular physical activity, as advised by a healthcare provider.\\n  - Quit smoking and limit alcohol intake.\\n  - Manage stress through relaxation techniques or counseling.\\n  - Monitor and control blood pressure, cholesterol levels, and diabetes if applicable.\\n\\n- **Medications**: Possible medications could include:\\n  - Nitroglycerin for relief of chest pain.\\n  - Beta-blockers or calcium channel blockers to manage heart rate and blood pressure.\\n  - Statins to lower cholesterol levels.\\n  - Aspirin or other antiplatelet agents to reduce the risk of blood clots.\\n\\nIt is important for the patient to consult with a healthcare provider for a precise diagnosis and tailored treatment plan.\", 'metrics': {'inputTokens': 226, 'outputTokens': 280, 'totalTokens': 506, 'ragTimeSec': 0, 'fulfillmentTimeSec': 4.45, 'totalTimeSec': 4.45}, 'status': 'completed'}}\n",
            "\n",
            "--- Patient Recommendations ---\n",
            "Based on the information provided:\n",
            "\n",
            "- **\n",
            "--- Diagnosis ---\n",
            "**: The symptoms of intermittent chest pain, shortness of breath, and dizziness in a 60-year-old male could suggest a cardiovascular issue, such as angina or coronary artery disease.\n",
            "\n",
            "- **Most Probable \n",
            "--- Diagnosis ---\n",
            "**: Angina pectoris is the most probable diagnosis, given the symptoms and the patient's age.\n",
            "\n",
            "- **Treatment Plan**: The treatment plan may involve managing the underlying cardiovascular condition, which could include lifestyle changes, medications, and possibly procedures like angioplasty or coronary artery bypass surgery if necessary.\n",
            "\n",
            "- **Lifestyle Modifications**: \n",
            "  - Adopt a heart-healthy diet low in saturated fats, cholesterol, and sodium.\n",
            "  - Engage in regular physical activity, as advised by a healthcare provider.\n",
            "  - Quit smoking and limit alcohol intake.\n",
            "  - Manage stress through relaxation techniques or counseling.\n",
            "  - Monitor and control blood pressure, cholesterol levels, and diabetes if applicable.\n",
            "\n",
            "- **\n",
            "--- Medications ---\n",
            "**: Possible medications could include:\n",
            "  - Nitroglycerin for relief of chest pain.\n",
            "  - Beta-blockers or calcium channel blockers to manage heart rate and blood pressure.\n",
            "  - Statins to lower cholesterol levels.\n",
            "  - Aspirin or other antiplatelet agents to reduce the risk of blood clots.\n",
            "\n",
            "It is important for the patient to consult with a healthcare provider for a precise diagnosis and tailored treatment plan.\n"
          ]
        }
      ]
    },
    {
      "cell_type": "code",
      "source": [
        "# Step 8: Display log entries\n",
        "for entry in logs:\n",
        "    print(entry)"
      ],
      "metadata": {
        "colab": {
          "base_uri": "https://localhost:8080/"
        },
        "id": "Z1Y_frX-zjtF",
        "outputId": "5d21a830-eff1-49af-b370-ca2608b8d066"
      },
      "execution_count": null,
      "outputs": [
        {
          "output_type": "stream",
          "name": "stdout",
          "text": [
            "{'patient_info': 'A 60-year-old male patient has been experiencing intermittent chest pain, shortness of breath, and unexplained dizziness for the past 3 months. MRI results show normal brain conditions', 'query_type': 'diagnosis', 'response': \"Based on the information provided:\\n\\n- **Diagnosis**: The symptoms of intermittent chest pain, shortness of breath, and dizziness in a 60-year-old male could suggest a cardiovascular issue, such as angina or coronary artery disease.\\n\\n- **Most Probable Diagnosis**: Angina pectoris is the most probable diagnosis, given the symptoms and the patient's age.\\n\\n- **Treatment Plan**: The treatment plan may involve managing the underlying cardiovascular condition, which could include lifestyle changes, medications, and possibly procedures like angioplasty or coronary artery bypass surgery if necessary.\\n\\n- **Lifestyle Modifications**: \\n  - Adopt a heart-healthy diet low in saturated fats, cholesterol, and sodium.\\n  - Engage in regular physical activity, as advised by a healthcare provider.\\n  - Quit smoking and limit alcohol intake.\\n  - Manage stress through relaxation techniques or counseling.\\n  - Monitor and control blood pressure, cholesterol levels, and diabetes if applicable.\\n\\n- **Medications**: Possible medications could include:\\n  - Nitroglycerin for relief of chest pain.\\n  - Beta-blockers or calcium channel blockers to manage heart rate and blood pressure.\\n  - Statins to lower cholesterol levels.\\n  - Aspirin or other antiplatelet agents to reduce the risk of blood clots.\\n\\nIt is important for the patient to consult with a healthcare provider for a precise diagnosis and tailored treatment plan.\"}\n"
          ]
        }
      ]
    },
    {
      "cell_type": "code",
      "source": [
        "filename = \"output.txt\"\n",
        "\n",
        "# Open the file in write mode\n",
        "with open(filename, 'w') as file:\n",
        "    # Write the text to the file\n",
        "    file.write(output)\n",
        "\n",
        "print(f\"Text has been written to {filename}.\")"
      ],
      "metadata": {
        "colab": {
          "base_uri": "https://localhost:8080/"
        },
        "id": "szfTn_xyZ12m",
        "outputId": "dd7ba6f9-6d7d-4aa1-bdbe-32c5fcadb7c8"
      },
      "execution_count": null,
      "outputs": [
        {
          "output_type": "stream",
          "name": "stdout",
          "text": [
            "Text has been written to output.txt.\n"
          ]
        }
      ]
    },
    {
      "cell_type": "code",
      "source": [
        "df = pd.DataFrame (logs)\n",
        "df"
      ],
      "metadata": {
        "colab": {
          "base_uri": "https://localhost:8080/",
          "height": 89
        },
        "id": "U9EWYHZ9dH4G",
        "outputId": "e1db5335-36c3-4888-df00-00733ff8ea11"
      },
      "execution_count": null,
      "outputs": [
        {
          "output_type": "execute_result",
          "data": {
            "text/plain": [
              "                                        patient_info query_type  \\\n",
              "0  A 60-year-old male patient has been experienci...  diagnosis   \n",
              "\n",
              "                                            response  \n",
              "0  Based on the information provided:\\n\\n- **Diag...  "
            ],
            "text/html": [
              "\n",
              "  <div id=\"df-abeb21cb-1abc-49a9-ac5c-c8aa03b61c8d\" class=\"colab-df-container\">\n",
              "    <div>\n",
              "<style scoped>\n",
              "    .dataframe tbody tr th:only-of-type {\n",
              "        vertical-align: middle;\n",
              "    }\n",
              "\n",
              "    .dataframe tbody tr th {\n",
              "        vertical-align: top;\n",
              "    }\n",
              "\n",
              "    .dataframe thead th {\n",
              "        text-align: right;\n",
              "    }\n",
              "</style>\n",
              "<table border=\"1\" class=\"dataframe\">\n",
              "  <thead>\n",
              "    <tr style=\"text-align: right;\">\n",
              "      <th></th>\n",
              "      <th>patient_info</th>\n",
              "      <th>query_type</th>\n",
              "      <th>response</th>\n",
              "    </tr>\n",
              "  </thead>\n",
              "  <tbody>\n",
              "    <tr>\n",
              "      <th>0</th>\n",
              "      <td>A 60-year-old male patient has been experienci...</td>\n",
              "      <td>diagnosis</td>\n",
              "      <td>Based on the information provided:\\n\\n- **Diag...</td>\n",
              "    </tr>\n",
              "  </tbody>\n",
              "</table>\n",
              "</div>\n",
              "    <div class=\"colab-df-buttons\">\n",
              "\n",
              "  <div class=\"colab-df-container\">\n",
              "    <button class=\"colab-df-convert\" onclick=\"convertToInteractive('df-abeb21cb-1abc-49a9-ac5c-c8aa03b61c8d')\"\n",
              "            title=\"Convert this dataframe to an interactive table.\"\n",
              "            style=\"display:none;\">\n",
              "\n",
              "  <svg xmlns=\"http://www.w3.org/2000/svg\" height=\"24px\" viewBox=\"0 -960 960 960\">\n",
              "    <path d=\"M120-120v-720h720v720H120Zm60-500h600v-160H180v160Zm220 220h160v-160H400v160Zm0 220h160v-160H400v160ZM180-400h160v-160H180v160Zm440 0h160v-160H620v160ZM180-180h160v-160H180v160Zm440 0h160v-160H620v160Z\"/>\n",
              "  </svg>\n",
              "    </button>\n",
              "\n",
              "  <style>\n",
              "    .colab-df-container {\n",
              "      display:flex;\n",
              "      gap: 12px;\n",
              "    }\n",
              "\n",
              "    .colab-df-convert {\n",
              "      background-color: #E8F0FE;\n",
              "      border: none;\n",
              "      border-radius: 50%;\n",
              "      cursor: pointer;\n",
              "      display: none;\n",
              "      fill: #1967D2;\n",
              "      height: 32px;\n",
              "      padding: 0 0 0 0;\n",
              "      width: 32px;\n",
              "    }\n",
              "\n",
              "    .colab-df-convert:hover {\n",
              "      background-color: #E2EBFA;\n",
              "      box-shadow: 0px 1px 2px rgba(60, 64, 67, 0.3), 0px 1px 3px 1px rgba(60, 64, 67, 0.15);\n",
              "      fill: #174EA6;\n",
              "    }\n",
              "\n",
              "    .colab-df-buttons div {\n",
              "      margin-bottom: 4px;\n",
              "    }\n",
              "\n",
              "    [theme=dark] .colab-df-convert {\n",
              "      background-color: #3B4455;\n",
              "      fill: #D2E3FC;\n",
              "    }\n",
              "\n",
              "    [theme=dark] .colab-df-convert:hover {\n",
              "      background-color: #434B5C;\n",
              "      box-shadow: 0px 1px 3px 1px rgba(0, 0, 0, 0.15);\n",
              "      filter: drop-shadow(0px 1px 2px rgba(0, 0, 0, 0.3));\n",
              "      fill: #FFFFFF;\n",
              "    }\n",
              "  </style>\n",
              "\n",
              "    <script>\n",
              "      const buttonEl =\n",
              "        document.querySelector('#df-abeb21cb-1abc-49a9-ac5c-c8aa03b61c8d button.colab-df-convert');\n",
              "      buttonEl.style.display =\n",
              "        google.colab.kernel.accessAllowed ? 'block' : 'none';\n",
              "\n",
              "      async function convertToInteractive(key) {\n",
              "        const element = document.querySelector('#df-abeb21cb-1abc-49a9-ac5c-c8aa03b61c8d');\n",
              "        const dataTable =\n",
              "          await google.colab.kernel.invokeFunction('convertToInteractive',\n",
              "                                                    [key], {});\n",
              "        if (!dataTable) return;\n",
              "\n",
              "        const docLinkHtml = 'Like what you see? Visit the ' +\n",
              "          '<a target=\"_blank\" href=https://colab.research.google.com/notebooks/data_table.ipynb>data table notebook</a>'\n",
              "          + ' to learn more about interactive tables.';\n",
              "        element.innerHTML = '';\n",
              "        dataTable['output_type'] = 'display_data';\n",
              "        await google.colab.output.renderOutput(dataTable, element);\n",
              "        const docLink = document.createElement('div');\n",
              "        docLink.innerHTML = docLinkHtml;\n",
              "        element.appendChild(docLink);\n",
              "      }\n",
              "    </script>\n",
              "  </div>\n",
              "\n",
              "\n",
              "  <div id=\"id_f1802c91-7335-4919-a294-a967819d542e\">\n",
              "    <style>\n",
              "      .colab-df-generate {\n",
              "        background-color: #E8F0FE;\n",
              "        border: none;\n",
              "        border-radius: 50%;\n",
              "        cursor: pointer;\n",
              "        display: none;\n",
              "        fill: #1967D2;\n",
              "        height: 32px;\n",
              "        padding: 0 0 0 0;\n",
              "        width: 32px;\n",
              "      }\n",
              "\n",
              "      .colab-df-generate:hover {\n",
              "        background-color: #E2EBFA;\n",
              "        box-shadow: 0px 1px 2px rgba(60, 64, 67, 0.3), 0px 1px 3px 1px rgba(60, 64, 67, 0.15);\n",
              "        fill: #174EA6;\n",
              "      }\n",
              "\n",
              "      [theme=dark] .colab-df-generate {\n",
              "        background-color: #3B4455;\n",
              "        fill: #D2E3FC;\n",
              "      }\n",
              "\n",
              "      [theme=dark] .colab-df-generate:hover {\n",
              "        background-color: #434B5C;\n",
              "        box-shadow: 0px 1px 3px 1px rgba(0, 0, 0, 0.15);\n",
              "        filter: drop-shadow(0px 1px 2px rgba(0, 0, 0, 0.3));\n",
              "        fill: #FFFFFF;\n",
              "      }\n",
              "    </style>\n",
              "    <button class=\"colab-df-generate\" onclick=\"generateWithVariable('df')\"\n",
              "            title=\"Generate code using this dataframe.\"\n",
              "            style=\"display:none;\">\n",
              "\n",
              "  <svg xmlns=\"http://www.w3.org/2000/svg\" height=\"24px\"viewBox=\"0 0 24 24\"\n",
              "       width=\"24px\">\n",
              "    <path d=\"M7,19H8.4L18.45,9,17,7.55,7,17.6ZM5,21V16.75L18.45,3.32a2,2,0,0,1,2.83,0l1.4,1.43a1.91,1.91,0,0,1,.58,1.4,1.91,1.91,0,0,1-.58,1.4L9.25,21ZM18.45,9,17,7.55Zm-12,3A5.31,5.31,0,0,0,4.9,8.1,5.31,5.31,0,0,0,1,6.5,5.31,5.31,0,0,0,4.9,4.9,5.31,5.31,0,0,0,6.5,1,5.31,5.31,0,0,0,8.1,4.9,5.31,5.31,0,0,0,12,6.5,5.46,5.46,0,0,0,6.5,12Z\"/>\n",
              "  </svg>\n",
              "    </button>\n",
              "    <script>\n",
              "      (() => {\n",
              "      const buttonEl =\n",
              "        document.querySelector('#id_f1802c91-7335-4919-a294-a967819d542e button.colab-df-generate');\n",
              "      buttonEl.style.display =\n",
              "        google.colab.kernel.accessAllowed ? 'block' : 'none';\n",
              "\n",
              "      buttonEl.onclick = () => {\n",
              "        google.colab.notebook.generateWithVariable('df');\n",
              "      }\n",
              "      })();\n",
              "    </script>\n",
              "  </div>\n",
              "\n",
              "    </div>\n",
              "  </div>\n"
            ],
            "application/vnd.google.colaboratory.intrinsic+json": {
              "type": "dataframe",
              "variable_name": "df",
              "summary": "{\n  \"name\": \"df\",\n  \"rows\": 1,\n  \"fields\": [\n    {\n      \"column\": \"patient_info\",\n      \"properties\": {\n        \"dtype\": \"string\",\n        \"num_unique_values\": 1,\n        \"samples\": [\n          \"A 60-year-old male patient has been experiencing intermittent chest pain, shortness of breath, and unexplained dizziness for the past 3 months. MRI results show normal brain conditions\"\n        ],\n        \"semantic_type\": \"\",\n        \"description\": \"\"\n      }\n    },\n    {\n      \"column\": \"query_type\",\n      \"properties\": {\n        \"dtype\": \"string\",\n        \"num_unique_values\": 1,\n        \"samples\": [\n          \"diagnosis\"\n        ],\n        \"semantic_type\": \"\",\n        \"description\": \"\"\n      }\n    },\n    {\n      \"column\": \"response\",\n      \"properties\": {\n        \"dtype\": \"string\",\n        \"num_unique_values\": 1,\n        \"samples\": [\n          \"Based on the information provided:\\n\\n- **Diagnosis**: The symptoms of intermittent chest pain, shortness of breath, and dizziness in a 60-year-old male could suggest a cardiovascular issue, such as angina or coronary artery disease.\\n\\n- **Most Probable Diagnosis**: Angina pectoris is the most probable diagnosis, given the symptoms and the patient's age.\\n\\n- **Treatment Plan**: The treatment plan may involve managing the underlying cardiovascular condition, which could include lifestyle changes, medications, and possibly procedures like angioplasty or coronary artery bypass surgery if necessary.\\n\\n- **Lifestyle Modifications**: \\n  - Adopt a heart-healthy diet low in saturated fats, cholesterol, and sodium.\\n  - Engage in regular physical activity, as advised by a healthcare provider.\\n  - Quit smoking and limit alcohol intake.\\n  - Manage stress through relaxation techniques or counseling.\\n  - Monitor and control blood pressure, cholesterol levels, and diabetes if applicable.\\n\\n- **Medications**: Possible medications could include:\\n  - Nitroglycerin for relief of chest pain.\\n  - Beta-blockers or calcium channel blockers to manage heart rate and blood pressure.\\n  - Statins to lower cholesterol levels.\\n  - Aspirin or other antiplatelet agents to reduce the risk of blood clots.\\n\\nIt is important for the patient to consult with a healthcare provider for a precise diagnosis and tailored treatment plan.\"\n        ],\n        \"semantic_type\": \"\",\n        \"description\": \"\"\n      }\n    }\n  ]\n}"
            }
          },
          "metadata": {},
          "execution_count": 15
        }
      ]
    },
    {
      "cell_type": "code",
      "source": [
        "import gradio as gr\n",
        "\n",
        "# Step 7: Create a Gradio interface\n",
        "def gradio_interface(patient_info, query_type):\n",
        "    # Initialize logs outside of the function for persistence\n",
        "    global logs\n",
        "    logs = []  # This is now persistent across calls\n",
        "    response = generate_query_response(patient_info, query_type, logs, context_examples)\n",
        "\n",
        "    if response is not None:\n",
        "        return response\n",
        "    else:\n",
        "        return \"An error occurred while generating the response.\"\n",
        "\n",
        "# Create Gradio app with enhanced layout\n",
        "iface = gr.Interface(\n",
        "    fn=gradio_interface,\n",
        "    inputs=[\n",
        "        gr.Textbox(\n",
        "            label=\"Patient Information\",\n",
        "            placeholder=\"Enter patient details here...\",\n",
        "            lines=5,  # Adjust height for better visibility\n",
        "            max_lines=10\n",
        "        ),\n",
        "        gr.Textbox(\n",
        "            label=\"Query Type\"\n",
        "        )\n",
        "    ],\n",
        "    outputs=gr.Textbox(label=\"Response\", placeholder=\"The response will appear here...\"),\n",
        "    title=\"Medical Query Interface\",\n",
        "    description=\"Enter patient information and select query type to get diagnosis and treatment recommendations.\",\n",
        "    css=\"\"\"\n",
        "        .input-textbox {\n",
        "            border-radius: 8px;\n",
        "            border: 2px solid #007bff;\n",
        "            font-size: 16px;\n",
        "        }\n",
        "        .output-textbox {\n",
        "            border-radius: 8px;\n",
        "            border: 2px solid #007bff;\n",
        "            background-color: #f9f9f9;\n",
        "            font-size: 16px;\n",
        "        }\n",
        "        .gr-button {\n",
        "            background-color: #007bff;\n",
        "            color: white;\n",
        "            border-radius: 8px;\n",
        "        }\n",
        "        .gr-button:hover {\n",
        "            background-color: #0056b3;\n",
        "        }\n",
        "    \"\"\"\n",
        ")\n",
        "\n",
        "\n",
        "iface.launch()"
      ],
      "metadata": {
        "colab": {
          "base_uri": "https://localhost:8080/",
          "height": 643
        },
        "id": "L-3tYfDB0ugs",
        "outputId": "e6082b3c-a12c-451a-c5d4-5bc86bb5c563"
      },
      "execution_count": null,
      "outputs": [
        {
          "output_type": "stream",
          "name": "stdout",
          "text": [
            "Running Gradio in a Colab notebook requires sharing enabled. Automatically setting `share=True` (you can turn this off by setting `share=False` in `launch()` explicitly).\n",
            "\n",
            "Colab notebook detected. To show errors in colab notebook, set debug=True in launch()\n",
            "* Running on public URL: https://21372a0bf245a6cd3e.gradio.live\n",
            "\n",
            "This share link expires in 72 hours. For free permanent hosting and GPU upgrades, run `gradio deploy` from the terminal in the working directory to deploy to Hugging Face Spaces (https://huggingface.co/spaces)\n"
          ]
        },
        {
          "output_type": "display_data",
          "data": {
            "text/plain": [
              "<IPython.core.display.HTML object>"
            ],
            "text/html": [
              "<div><iframe src=\"https://21372a0bf245a6cd3e.gradio.live\" width=\"100%\" height=\"500\" allow=\"autoplay; camera; microphone; clipboard-read; clipboard-write;\" frameborder=\"0\" allowfullscreen></iframe></div>"
            ]
          },
          "metadata": {}
        },
        {
          "output_type": "execute_result",
          "data": {
            "text/plain": []
          },
          "metadata": {},
          "execution_count": 22
        }
      ]
    }
  ]
}