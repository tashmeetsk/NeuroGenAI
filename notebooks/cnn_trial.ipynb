{
  "nbformat": 4,
  "nbformat_minor": 0,
  "metadata": {
    "colab": {
      "provenance": [],
      "gpuType": "T4"
    },
    "kernelspec": {
      "name": "python3",
      "display_name": "Python 3"
    },
    "language_info": {
      "name": "python"
    },
    "accelerator": "GPU"
  },
  "cells": [
    {
      "cell_type": "code",
      "execution_count": null,
      "metadata": {
        "id": "7kNwBBgBNO4Z"
      },
      "outputs": [],
      "source": [
        "import tensorflow as tf\n",
        "from PIL import Image\n",
        "import os\n",
        "import shutil\n",
        "import numpy as np"
      ]
    },
    {
      "cell_type": "code",
      "source": [
        "os.makedirs('/content/drive/MyDrive/neurogenai/multidisease/normal/')"
      ],
      "metadata": {
        "id": "d2stKNrl61GB"
      },
      "execution_count": null,
      "outputs": []
    },
    {
      "cell_type": "code",
      "source": [
        "dirpath = \"/content/drive/MyDrive/neurogenai/Stroke/Normal\"\n",
        "for filename in os.listdir(dirpath):\n",
        "  shutil.copy(os.path.join(dirpath, filename), f\"/content/drive/MyDrive/neurogenai/multidisease/normal/{filename}\")"
      ],
      "metadata": {
        "id": "j36JkMnFp_hX"
      },
      "execution_count": null,
      "outputs": []
    },
    {
      "cell_type": "code",
      "source": [
        "len(os.listdir(\"/content/drive/MyDrive/neurogenai/multidisease/normal\"))"
      ],
      "metadata": {
        "colab": {
          "base_uri": "https://localhost:8080/"
        },
        "id": "5gl4Bm9qs8tr",
        "outputId": "efe6a0bd-89c5-4744-c40a-8fe038d3f95e"
      },
      "execution_count": null,
      "outputs": [
        {
          "output_type": "execute_result",
          "data": {
            "text/plain": [
              "1830"
            ]
          },
          "metadata": {},
          "execution_count": 62
        }
      ]
    },
    {
      "cell_type": "code",
      "source": [
        "image = Image.open(\"/content/drive/MyDrive/neurogenai/multidisease/alzheimer/OAS1_0028_MR1_mpr-1_100.jpg\")\n",
        "image = np.array(image)"
      ],
      "metadata": {
        "id": "YUUZY0ceDaZK"
      },
      "execution_count": null,
      "outputs": []
    },
    {
      "cell_type": "code",
      "source": [
        "image.shape"
      ],
      "metadata": {
        "colab": {
          "base_uri": "https://localhost:8080/"
        },
        "id": "7WwYvzSAE6Gp",
        "outputId": "aae44c8b-f5e6-4d2c-f557-3044920f9722"
      },
      "execution_count": null,
      "outputs": [
        {
          "output_type": "execute_result",
          "data": {
            "text/plain": [
              "(248, 496, 3)"
            ]
          },
          "metadata": {},
          "execution_count": 75
        }
      ]
    },
    {
      "cell_type": "code",
      "source": [
        "from tensorflow.keras.preprocessing.image import ImageDataGenerator"
      ],
      "metadata": {
        "id": "P2vtgN8f8tQW"
      },
      "execution_count": null,
      "outputs": []
    },
    {
      "cell_type": "code",
      "source": [
        "datagen = ImageDataGenerator(rescale=1/255.,\n",
        "                             validation_split=0.15)\n",
        "training = datagen.flow_from_directory('/content/drive/MyDrive/neurogenai/multidisease',\n",
        "                                       target_size=(256, 256),\n",
        "                                       subset=\"training\",\n",
        "                                       class_mode=\"sparse\",\n",
        "                                       batch_size=64)\n",
        "testing = datagen.flow_from_directory('/content/drive/MyDrive/neurogenai/multidisease',\n",
        "                                      target_size=(256, 256),\n",
        "                                      subset=\"validation\",\n",
        "                                      class_mode=\"sparse\",\n",
        "                                      batch_size=64)"
      ],
      "metadata": {
        "colab": {
          "base_uri": "https://localhost:8080/"
        },
        "id": "YT4WqLPE9PRu",
        "outputId": "056f4447-3ec6-48e1-82f2-e916bb4d9ed8"
      },
      "execution_count": null,
      "outputs": [
        {
          "output_type": "stream",
          "name": "stdout",
          "text": [
            "Found 3811 images belonging to 4 classes.\n",
            "Found 670 images belonging to 4 classes.\n"
          ]
        }
      ]
    },
    {
      "cell_type": "code",
      "source": [
        "os.listdir(\"/content/drive/MyDrive/neurogenai/multidisease\")"
      ],
      "metadata": {
        "colab": {
          "base_uri": "https://localhost:8080/"
        },
        "id": "ZyJRykNxrpbf",
        "outputId": "703f18f2-8f4a-44d6-cd03-273200d4a8f5"
      },
      "execution_count": null,
      "outputs": [
        {
          "output_type": "execute_result",
          "data": {
            "text/plain": [
              "['stroke', 'alzheimer', 'tumor', 'normal']"
            ]
          },
          "metadata": {},
          "execution_count": 15
        }
      ]
    },
    {
      "cell_type": "code",
      "source": [
        "import tensorflow_hub as hub\n",
        "import tf_keras\n",
        "model = tf_keras.Sequential([\n",
        "    hub.KerasLayer(\"https://www.kaggle.com/models/tensorflow/efficientnet/TensorFlow2/b0-classification/1\", trainable=False),\n",
        "    tf_keras.layers.Dense(100, activation=\"leaky_relu\"),\n",
        "    tf_keras.layers.Dense(25, activation=\"swish\"),\n",
        "    tf_keras.layers.Dense(4, activation=\"softmax\")\n",
        "])\n",
        "\n",
        "model.compile(loss=\"sparse_categorical_crossentropy\",\n",
        "              optimizer=tf_keras.optimizers.Adam(),\n",
        "              metrics=['accuracy'])\n",
        "model.fit(training, steps_per_epoch = len(training), epochs=10, validation_data = testing, validation_steps = len(testing))"
      ],
      "metadata": {
        "colab": {
          "base_uri": "https://localhost:8080/"
        },
        "id": "56kuaL6zJKDJ",
        "outputId": "2bb1fdef-8e5d-4d36-fe31-c89e52cf70c2"
      },
      "execution_count": null,
      "outputs": [
        {
          "output_type": "stream",
          "name": "stdout",
          "text": [
            "Epoch 1/10\n",
            "60/60 [==============================] - 2608s 44s/step - loss: 1.2426 - accuracy: 0.5062 - val_loss: 1.1631 - val_accuracy: 0.4537\n",
            "Epoch 2/10\n",
            "60/60 [==============================] - 34s 567ms/step - loss: 0.9366 - accuracy: 0.6145 - val_loss: 1.0681 - val_accuracy: 0.5507\n",
            "Epoch 3/10\n",
            "60/60 [==============================] - 30s 512ms/step - loss: 0.6590 - accuracy: 0.7392 - val_loss: 1.0362 - val_accuracy: 0.5537\n",
            "Epoch 4/10\n",
            "60/60 [==============================] - 30s 498ms/step - loss: 0.5391 - accuracy: 0.7830 - val_loss: 1.0612 - val_accuracy: 0.5642\n",
            "Epoch 5/10\n",
            "60/60 [==============================] - 32s 546ms/step - loss: 0.4780 - accuracy: 0.8053 - val_loss: 1.0264 - val_accuracy: 0.5806\n",
            "Epoch 6/10\n",
            "60/60 [==============================] - 32s 533ms/step - loss: 0.4328 - accuracy: 0.8329 - val_loss: 0.9532 - val_accuracy: 0.6239\n",
            "Epoch 7/10\n",
            "60/60 [==============================] - 32s 531ms/step - loss: 0.3921 - accuracy: 0.8454 - val_loss: 0.9433 - val_accuracy: 0.6239\n",
            "Epoch 8/10\n",
            "60/60 [==============================] - 32s 536ms/step - loss: 0.3612 - accuracy: 0.8583 - val_loss: 0.8897 - val_accuracy: 0.6448\n",
            "Epoch 9/10\n",
            "60/60 [==============================] - 28s 479ms/step - loss: 0.3392 - accuracy: 0.8662 - val_loss: 0.9609 - val_accuracy: 0.6194\n",
            "Epoch 10/10\n",
            "60/60 [==============================] - 33s 553ms/step - loss: 0.3179 - accuracy: 0.8769 - val_loss: 0.8995 - val_accuracy: 0.6224\n"
          ]
        },
        {
          "output_type": "execute_result",
          "data": {
            "text/plain": [
              "<tf_keras.src.callbacks.History at 0x7cedd6ebe080>"
            ]
          },
          "metadata": {},
          "execution_count": 10
        }
      ]
    },
    {
      "cell_type": "code",
      "source": [
        "model.layers[0].trainable = True"
      ],
      "metadata": {
        "id": "cr3ZhJGPa47u"
      },
      "execution_count": null,
      "outputs": []
    },
    {
      "cell_type": "code",
      "source": [
        "model.compile(loss=\"sparse_categorical_crossentropy\",\n",
        "              optimizer=tf_keras.optimizers.Adam(),\n",
        "              metrics=['accuracy'])\n",
        "model.fit(training, steps_per_epoch = len(training), epochs=10, validation_data = testing, validation_steps = len(testing))"
      ],
      "metadata": {
        "colab": {
          "base_uri": "https://localhost:8080/"
        },
        "id": "SRIPS03pop_j",
        "outputId": "b90ffbb4-9daa-44c6-c230-401d3fa7148a"
      },
      "execution_count": null,
      "outputs": [
        {
          "output_type": "stream",
          "name": "stdout",
          "text": [
            "Epoch 1/10\n",
            "60/60 [==============================] - 82s 686ms/step - loss: 0.4132 - accuracy: 0.9234 - val_loss: 1.0261 - val_accuracy: 0.6746\n",
            "Epoch 2/10\n",
            "60/60 [==============================] - 39s 652ms/step - loss: 0.2226 - accuracy: 0.9827 - val_loss: 0.8081 - val_accuracy: 0.7030\n",
            "Epoch 3/10\n",
            "60/60 [==============================] - 42s 701ms/step - loss: 0.2038 - accuracy: 0.9869 - val_loss: 2.0755 - val_accuracy: 0.5313\n",
            "Epoch 4/10\n",
            "60/60 [==============================] - 42s 703ms/step - loss: 0.1931 - accuracy: 0.9919 - val_loss: 0.8267 - val_accuracy: 0.8373\n",
            "Epoch 5/10\n",
            "60/60 [==============================] - 42s 699ms/step - loss: 0.2109 - accuracy: 0.9882 - val_loss: 2.8429 - val_accuracy: 0.3761\n",
            "Epoch 6/10\n",
            "60/60 [==============================] - 37s 616ms/step - loss: 0.2026 - accuracy: 0.9906 - val_loss: 1.6599 - val_accuracy: 0.6254\n",
            "Epoch 7/10\n",
            "60/60 [==============================] - 42s 695ms/step - loss: 0.2113 - accuracy: 0.9892 - val_loss: 3.7485 - val_accuracy: 0.5597\n",
            "Epoch 8/10\n",
            "60/60 [==============================] - 38s 632ms/step - loss: 0.1911 - accuracy: 0.9916 - val_loss: 3.3112 - val_accuracy: 0.6388\n",
            "Epoch 9/10\n",
            "60/60 [==============================] - 37s 618ms/step - loss: 0.1759 - accuracy: 0.9969 - val_loss: 1.9916 - val_accuracy: 0.6970\n",
            "Epoch 10/10\n",
            "60/60 [==============================] - 42s 696ms/step - loss: 0.1876 - accuracy: 0.9916 - val_loss: 0.5159 - val_accuracy: 0.8836\n"
          ]
        },
        {
          "output_type": "execute_result",
          "data": {
            "text/plain": [
              "<tf_keras.src.callbacks.History at 0x7cedd6e2d420>"
            ]
          },
          "metadata": {},
          "execution_count": 12
        }
      ]
    },
    {
      "cell_type": "code",
      "source": [
        "image = Image.open(\"/content/drive/MyDrive/neurogenai/trial_test/Tr-me_0015.jpg\")\n",
        "image.convert(\"RGB\")\n",
        "image.resize((256, 256))\n",
        "image = np.array(image)\n",
        "image = image/255.\n",
        "model.predict(tf.expand_dims(image, axis=0))"
      ],
      "metadata": {
        "colab": {
          "base_uri": "https://localhost:8080/"
        },
        "id": "ZTP8lYHYowEJ",
        "outputId": "7f1d14d2-1217-473b-95c0-621b9e7beb8d"
      },
      "execution_count": null,
      "outputs": [
        {
          "output_type": "stream",
          "name": "stdout",
          "text": [
            "1/1 [==============================] - 0s 78ms/step\n"
          ]
        },
        {
          "output_type": "execute_result",
          "data": {
            "text/plain": [
              "array([[5.0774728e-05, 1.6902994e-01, 1.3236099e-01, 6.9855827e-01]],\n",
              "      dtype=float32)"
            ]
          },
          "metadata": {},
          "execution_count": 51
        }
      ]
    },
    {
      "cell_type": "code",
      "source": [
        "# View the mapping of class names to indices\n",
        "print(\"Class indices:\", training.class_indices)\n",
        "\n",
        "# Alternatively, if you want to view the indices as a list:\n",
        "class_names = list(training.class_indices.keys())\n",
        "print(\"Class names in order:\", class_names)"
      ],
      "metadata": {
        "colab": {
          "base_uri": "https://localhost:8080/"
        },
        "id": "cCXfQxNorclw",
        "outputId": "4baa73d6-4b49-4032-c19d-22bb6f2dc6a9"
      },
      "execution_count": null,
      "outputs": [
        {
          "output_type": "stream",
          "name": "stdout",
          "text": [
            "Class indices: {'alzheimer': 0, 'normal': 1, 'stroke': 2, 'tumor': 3}\n",
            "Class names in order: ['alzheimer', 'normal', 'stroke', 'tumor']\n"
          ]
        }
      ]
    },
    {
      "cell_type": "code",
      "source": [
        "x=9\n",
        "model.predict(tf.expand_dims(temp[0][x], axis=0)), temp[1][x]"
      ],
      "metadata": {
        "colab": {
          "base_uri": "https://localhost:8080/"
        },
        "id": "Hcpyj4X7tAsm",
        "outputId": "823f5ae1-f9b3-4497-a445-20354ece37b8"
      },
      "execution_count": null,
      "outputs": [
        {
          "output_type": "stream",
          "name": "stdout",
          "text": [
            "1/1 [==============================] - 0s 26ms/step\n"
          ]
        },
        {
          "output_type": "execute_result",
          "data": {
            "text/plain": [
              "(array([[1.4323878e-04, 9.0666495e-02, 9.0727848e-01, 1.9117475e-03]],\n",
              "       dtype=float32),\n",
              " 1.0)"
            ]
          },
          "metadata": {},
          "execution_count": 25
        }
      ]
    },
    {
      "cell_type": "code",
      "source": [
        "temp[0].shape"
      ],
      "metadata": {
        "colab": {
          "base_uri": "https://localhost:8080/"
        },
        "id": "yiLltEDvtEnT",
        "outputId": "1873bc0d-a141-4ea3-cbff-e1766a9f3ed6"
      },
      "execution_count": null,
      "outputs": [
        {
          "output_type": "execute_result",
          "data": {
            "text/plain": [
              "(64, 256, 256, 3)"
            ]
          },
          "metadata": {},
          "execution_count": 39
        }
      ]
    },
    {
      "cell_type": "code",
      "source": [
        "model.save(\"/content/drive/MyDrive/neurogenai/initial_model.h5\")"
      ],
      "metadata": {
        "colab": {
          "base_uri": "https://localhost:8080/"
        },
        "id": "ff2frnkptRJT",
        "outputId": "ba47983c-22bf-401b-ab8b-16ec7e7c0484"
      },
      "execution_count": null,
      "outputs": [
        {
          "output_type": "stream",
          "name": "stderr",
          "text": [
            "/usr/local/lib/python3.10/dist-packages/tf_keras/src/engine/training.py:3098: UserWarning: You are saving your model as an HDF5 file via `model.save()`. This file format is considered legacy. We recommend using instead the native TF-Keras format, e.g. `model.save('my_model.keras')`.\n",
            "  saving_api.save_model(\n"
          ]
        }
      ]
    },
    {
      "cell_type": "code",
      "source": [
        "os.makedirs(\"/content/drive/MyDrive/neurogenai/trial_test/\")"
      ],
      "metadata": {
        "id": "D0rf1ywtvFL5"
      },
      "execution_count": null,
      "outputs": []
    },
    {
      "cell_type": "code",
      "source": [
        "datagen_stroke = ImageDataGenerator(rescale=1/255.,\n",
        "                                   validation_split=0.1)\n",
        "training_stroke = datagen_stroke.flow_from_directory(\"/content/drive/MyDrive/neurogenai/diseasespecific/tumor\",\n",
        "                                                   target_size=(256, 256),\n",
        "                                                   class_mode=\"sparse\",\n",
        "                                                   subset=\"training\",\n",
        "                                                   batch_size=32)\n",
        "testing_stroke = datagen_stroke.flow_from_directory(\"/content/drive/MyDrive/neurogenai/diseasespecific/stroke\",\n",
        "                                                  target_size=(256, 256),\n",
        "                                                  class_mode=\"sparse\",\n",
        "                                                  subset=\"validation\",\n",
        "                                                  batch_size=32)"
      ],
      "metadata": {
        "colab": {
          "base_uri": "https://localhost:8080/"
        },
        "id": "FvEIwtWqxy4T",
        "outputId": "8ed8e692-ea97-4f0a-82a9-8bb3d172e4cc"
      },
      "execution_count": null,
      "outputs": [
        {
          "output_type": "stream",
          "name": "stdout",
          "text": [
            "Found 816 images belonging to 3 classes.\n",
            "Found 21 images belonging to 2 classes.\n"
          ]
        }
      ]
    },
    {
      "cell_type": "code",
      "source": [
        "import tensorflow_hub as hub\n",
        "import tf_keras\n",
        "model_stroke = tf_keras.Sequential([\n",
        "    hub.KerasLayer(\"https://www.kaggle.com/models/tensorflow/efficientnet/TensorFlow2/b3-classification/1\", trainable=False),\n",
        "    tf_keras.layers.Dense(100, activation=\"leaky_relu\"),\n",
        "    tf_keras.layers.Dense(25, activation=\"swish\"),\n",
        "    tf_keras.layers.Dense(4, activation=\"softmax\")\n",
        "])\n",
        "\n",
        "model_stroke.compile(loss=\"sparse_categorical_crossentropy\",\n",
        "              optimizer=tf_keras.optimizers.Adam(),\n",
        "              metrics=['accuracy'])\n",
        "model_stroke.fit(training_stroke, steps_per_epoch = len(training_stroke), epochs=10, validation_data = testing_stroke, validation_steps = len(testing_stroke))"
      ],
      "metadata": {
        "colab": {
          "base_uri": "https://localhost:8080/"
        },
        "id": "wsdIJNaUoqua",
        "outputId": "393d4d88-051d-4356-d42d-fd54660bbd6e"
      },
      "execution_count": null,
      "outputs": [
        {
          "output_type": "stream",
          "name": "stdout",
          "text": [
            "Epoch 1/10\n",
            "44/44 [==============================] - 24s 227ms/step - loss: 1.2960 - accuracy: 0.3614 - val_loss: 1.1904 - val_accuracy: 0.3709\n",
            "Epoch 2/10\n",
            "44/44 [==============================] - 9s 216ms/step - loss: 1.1262 - accuracy: 0.4427 - val_loss: 1.0639 - val_accuracy: 0.5099\n",
            "Epoch 3/10\n",
            "44/44 [==============================] - 10s 220ms/step - loss: 1.0321 - accuracy: 0.5094 - val_loss: 0.9857 - val_accuracy: 0.4702\n",
            "Epoch 4/10\n",
            "44/44 [==============================] - 9s 196ms/step - loss: 0.9769 - accuracy: 0.5341 - val_loss: 0.9158 - val_accuracy: 0.5828\n",
            "Epoch 5/10\n",
            "44/44 [==============================] - 9s 209ms/step - loss: 0.9134 - accuracy: 0.5958 - val_loss: 0.9248 - val_accuracy: 0.4901\n",
            "Epoch 6/10\n",
            "44/44 [==============================] - 8s 190ms/step - loss: 0.8641 - accuracy: 0.5900 - val_loss: 0.8406 - val_accuracy: 0.5762\n",
            "Epoch 7/10\n",
            "44/44 [==============================] - 9s 195ms/step - loss: 0.8346 - accuracy: 0.6205 - val_loss: 0.7991 - val_accuracy: 0.6424\n",
            "Epoch 8/10\n",
            "44/44 [==============================] - 9s 198ms/step - loss: 0.8184 - accuracy: 0.6110 - val_loss: 0.8366 - val_accuracy: 0.6225\n",
            "Epoch 9/10\n",
            "44/44 [==============================] - 8s 174ms/step - loss: 0.7926 - accuracy: 0.6328 - val_loss: 0.8009 - val_accuracy: 0.6159\n",
            "Epoch 10/10\n",
            "44/44 [==============================] - 8s 175ms/step - loss: 0.7686 - accuracy: 0.6502 - val_loss: 0.7728 - val_accuracy: 0.6556\n"
          ]
        },
        {
          "output_type": "execute_result",
          "data": {
            "text/plain": [
              "<tf_keras.src.callbacks.History at 0x7f9fd245b700>"
            ]
          },
          "metadata": {},
          "execution_count": 5
        }
      ]
    },
    {
      "cell_type": "code",
      "source": [
        "model_stroke.layers[0].trainable=True\n",
        "model_stroke.compile(loss=\"sparse_categorical_crossentropy\",\n",
        "              optimizer=tf_keras.optimizers.Adam(),\n",
        "              metrics=['accuracy'])\n",
        "model_stroke.fit(training_stroke, steps_per_epoch = len(training_stroke), epochs=10, validation_data = testing_stroke, validation_steps = len(testing_stroke))"
      ],
      "metadata": {
        "colab": {
          "base_uri": "https://localhost:8080/"
        },
        "id": "Q0Bw_VFMsyfw",
        "outputId": "aa1242f2-da16-4002-c038-32227e176b5a"
      },
      "execution_count": null,
      "outputs": [
        {
          "output_type": "stream",
          "name": "stdout",
          "text": [
            "Epoch 1/10\n",
            "44/44 [==============================] - 91s 615ms/step - loss: 0.6589 - accuracy: 0.8266 - val_loss: 1.8612 - val_accuracy: 0.6689\n",
            "Epoch 2/10\n",
            "44/44 [==============================] - 24s 541ms/step - loss: 0.4089 - accuracy: 0.9456 - val_loss: 3.5313 - val_accuracy: 0.5629\n",
            "Epoch 3/10\n",
            "44/44 [==============================] - 24s 540ms/step - loss: 0.2746 - accuracy: 0.9819 - val_loss: 1.7734 - val_accuracy: 0.7682\n",
            "Epoch 4/10\n",
            "44/44 [==============================] - 24s 536ms/step - loss: 0.2735 - accuracy: 0.9840 - val_loss: 1.6298 - val_accuracy: 0.6755\n",
            "Epoch 5/10\n",
            "44/44 [==============================] - 23s 532ms/step - loss: 0.2295 - accuracy: 0.9942 - val_loss: 0.2765 - val_accuracy: 0.9735\n",
            "Epoch 6/10\n",
            "44/44 [==============================] - 24s 544ms/step - loss: 0.2688 - accuracy: 0.9833 - val_loss: 2.1895 - val_accuracy: 0.6556\n",
            "Epoch 7/10\n",
            "44/44 [==============================] - 24s 538ms/step - loss: 0.2808 - accuracy: 0.9761 - val_loss: 0.6542 - val_accuracy: 0.9073\n",
            "Epoch 8/10\n",
            "44/44 [==============================] - 23s 534ms/step - loss: 0.3137 - accuracy: 0.9717 - val_loss: 0.9818 - val_accuracy: 0.8742\n",
            "Epoch 9/10\n",
            "44/44 [==============================] - 24s 539ms/step - loss: 0.2475 - accuracy: 0.9884 - val_loss: 1.0110 - val_accuracy: 0.8146\n",
            "Epoch 10/10\n",
            "44/44 [==============================] - 23s 535ms/step - loss: 0.2313 - accuracy: 0.9920 - val_loss: 0.6670 - val_accuracy: 0.8411\n"
          ]
        },
        {
          "output_type": "execute_result",
          "data": {
            "text/plain": [
              "<tf_keras.src.callbacks.History at 0x7f9fd03074f0>"
            ]
          },
          "metadata": {},
          "execution_count": 6
        }
      ]
    },
    {
      "cell_type": "code",
      "source": [
        "model_stroke.save(\"/content/drive/MyDrive/neurogenai/model_alzheimer.h5\")"
      ],
      "metadata": {
        "colab": {
          "base_uri": "https://localhost:8080/"
        },
        "id": "xb0aqc-es84i",
        "outputId": "e1423003-1397-42fb-893f-ff6e545d5f78"
      },
      "execution_count": null,
      "outputs": [
        {
          "output_type": "stream",
          "name": "stderr",
          "text": [
            "/usr/local/lib/python3.10/dist-packages/tf_keras/src/engine/training.py:3098: UserWarning: You are saving your model as an HDF5 file via `model.save()`. This file format is considered legacy. We recommend using instead the native TF-Keras format, e.g. `model.save('my_model.keras')`.\n",
            "  saving_api.save_model(\n"
          ]
        }
      ]
    },
    {
      "cell_type": "code",
      "source": [
        "import tf_keras\n",
        "import tensorflow as tf"
      ],
      "metadata": {
        "id": "D19-5AUF_bsI"
      },
      "execution_count": null,
      "outputs": []
    },
    {
      "cell_type": "code",
      "source": [
        "model_initial = tf_keras.models.load_model(\"/content/drive/MyDrive/neurogenai/initial_model.h5\")"
      ],
      "metadata": {
        "colab": {
          "base_uri": "https://localhost:8080/",
          "height": 462
        },
        "id": "oupE_f8w_T5s",
        "outputId": "0d09a528-012d-4375-80b9-8b62163f07c5"
      },
      "execution_count": null,
      "outputs": [
        {
          "output_type": "error",
          "ename": "ValueError",
          "evalue": "Unknown layer: 'KerasLayer'. Please ensure you are using a `keras.utils.custom_object_scope` and that this object is included in the scope. See https://www.tensorflow.org/guide/keras/save_and_serialize#registering_the_custom_object for details.",
          "traceback": [
            "\u001b[0;31m---------------------------------------------------------------------------\u001b[0m",
            "\u001b[0;31mValueError\u001b[0m                                Traceback (most recent call last)",
            "\u001b[0;32m<ipython-input-7-53bae4138992>\u001b[0m in \u001b[0;36m<cell line: 1>\u001b[0;34m()\u001b[0m\n\u001b[0;32m----> 1\u001b[0;31m \u001b[0mmodel_initial\u001b[0m \u001b[0;34m=\u001b[0m \u001b[0mtf\u001b[0m\u001b[0;34m.\u001b[0m\u001b[0mkeras\u001b[0m\u001b[0;34m.\u001b[0m\u001b[0mmodels\u001b[0m\u001b[0;34m.\u001b[0m\u001b[0mload_model\u001b[0m\u001b[0;34m(\u001b[0m\u001b[0;34m\"/content/drive/MyDrive/neurogenai/initial_model.h5\"\u001b[0m\u001b[0;34m)\u001b[0m\u001b[0;34m\u001b[0m\u001b[0;34m\u001b[0m\u001b[0m\n\u001b[0m",
            "\u001b[0;32m/usr/local/lib/python3.10/dist-packages/keras/src/saving/saving_api.py\u001b[0m in \u001b[0;36mload_model\u001b[0;34m(filepath, custom_objects, compile, safe_mode)\u001b[0m\n\u001b[1;32m    187\u001b[0m         )\n\u001b[1;32m    188\u001b[0m     \u001b[0;32mif\u001b[0m \u001b[0mstr\u001b[0m\u001b[0;34m(\u001b[0m\u001b[0mfilepath\u001b[0m\u001b[0;34m)\u001b[0m\u001b[0;34m.\u001b[0m\u001b[0mendswith\u001b[0m\u001b[0;34m(\u001b[0m\u001b[0;34m(\u001b[0m\u001b[0;34m\".h5\"\u001b[0m\u001b[0;34m,\u001b[0m \u001b[0;34m\".hdf5\"\u001b[0m\u001b[0;34m)\u001b[0m\u001b[0;34m)\u001b[0m\u001b[0;34m:\u001b[0m\u001b[0;34m\u001b[0m\u001b[0;34m\u001b[0m\u001b[0m\n\u001b[0;32m--> 189\u001b[0;31m         return legacy_h5_format.load_model_from_hdf5(\n\u001b[0m\u001b[1;32m    190\u001b[0m             \u001b[0mfilepath\u001b[0m\u001b[0;34m,\u001b[0m \u001b[0mcustom_objects\u001b[0m\u001b[0;34m=\u001b[0m\u001b[0mcustom_objects\u001b[0m\u001b[0;34m,\u001b[0m \u001b[0mcompile\u001b[0m\u001b[0;34m=\u001b[0m\u001b[0mcompile\u001b[0m\u001b[0;34m\u001b[0m\u001b[0;34m\u001b[0m\u001b[0m\n\u001b[1;32m    191\u001b[0m         )\n",
            "\u001b[0;32m/usr/local/lib/python3.10/dist-packages/keras/src/legacy/saving/legacy_h5_format.py\u001b[0m in \u001b[0;36mload_model_from_hdf5\u001b[0;34m(filepath, custom_objects, compile)\u001b[0m\n\u001b[1;32m    131\u001b[0m \u001b[0;34m\u001b[0m\u001b[0m\n\u001b[1;32m    132\u001b[0m         \u001b[0;32mwith\u001b[0m \u001b[0msaving_options\u001b[0m\u001b[0;34m.\u001b[0m\u001b[0mkeras_option_scope\u001b[0m\u001b[0;34m(\u001b[0m\u001b[0muse_legacy_config\u001b[0m\u001b[0;34m=\u001b[0m\u001b[0;32mTrue\u001b[0m\u001b[0;34m)\u001b[0m\u001b[0;34m:\u001b[0m\u001b[0;34m\u001b[0m\u001b[0;34m\u001b[0m\u001b[0m\n\u001b[0;32m--> 133\u001b[0;31m             model = saving_utils.model_from_config(\n\u001b[0m\u001b[1;32m    134\u001b[0m                 \u001b[0mmodel_config\u001b[0m\u001b[0;34m,\u001b[0m \u001b[0mcustom_objects\u001b[0m\u001b[0;34m=\u001b[0m\u001b[0mcustom_objects\u001b[0m\u001b[0;34m\u001b[0m\u001b[0;34m\u001b[0m\u001b[0m\n\u001b[1;32m    135\u001b[0m             )\n",
            "\u001b[0;32m/usr/local/lib/python3.10/dist-packages/keras/src/legacy/saving/saving_utils.py\u001b[0m in \u001b[0;36mmodel_from_config\u001b[0;34m(config, custom_objects)\u001b[0m\n\u001b[1;32m     83\u001b[0m     \u001b[0mconfig\u001b[0m \u001b[0;34m=\u001b[0m \u001b[0m_find_replace_nested_dict\u001b[0m\u001b[0;34m(\u001b[0m\u001b[0mconfig\u001b[0m\u001b[0;34m,\u001b[0m \u001b[0;34m\"keras.\"\u001b[0m\u001b[0;34m,\u001b[0m \u001b[0;34m\"keras.\"\u001b[0m\u001b[0;34m)\u001b[0m\u001b[0;34m\u001b[0m\u001b[0;34m\u001b[0m\u001b[0m\n\u001b[1;32m     84\u001b[0m \u001b[0;34m\u001b[0m\u001b[0m\n\u001b[0;32m---> 85\u001b[0;31m     return serialization.deserialize_keras_object(\n\u001b[0m\u001b[1;32m     86\u001b[0m         \u001b[0mconfig\u001b[0m\u001b[0;34m,\u001b[0m\u001b[0;34m\u001b[0m\u001b[0;34m\u001b[0m\u001b[0m\n\u001b[1;32m     87\u001b[0m         \u001b[0mmodule_objects\u001b[0m\u001b[0;34m=\u001b[0m\u001b[0mMODULE_OBJECTS\u001b[0m\u001b[0;34m.\u001b[0m\u001b[0mALL_OBJECTS\u001b[0m\u001b[0;34m,\u001b[0m\u001b[0;34m\u001b[0m\u001b[0;34m\u001b[0m\u001b[0m\n",
            "\u001b[0;32m/usr/local/lib/python3.10/dist-packages/keras/src/legacy/saving/serialization.py\u001b[0m in \u001b[0;36mdeserialize_keras_object\u001b[0;34m(identifier, module_objects, custom_objects, printable_module_name)\u001b[0m\n\u001b[1;32m    493\u001b[0m \u001b[0;34m\u001b[0m\u001b[0m\n\u001b[1;32m    494\u001b[0m             \u001b[0;32mif\u001b[0m \u001b[0;34m\"custom_objects\"\u001b[0m \u001b[0;32min\u001b[0m \u001b[0marg_spec\u001b[0m\u001b[0;34m.\u001b[0m\u001b[0margs\u001b[0m\u001b[0;34m:\u001b[0m\u001b[0;34m\u001b[0m\u001b[0;34m\u001b[0m\u001b[0m\n\u001b[0;32m--> 495\u001b[0;31m                 deserialized_obj = cls.from_config(\n\u001b[0m\u001b[1;32m    496\u001b[0m                     \u001b[0mcls_config\u001b[0m\u001b[0;34m,\u001b[0m\u001b[0;34m\u001b[0m\u001b[0;34m\u001b[0m\u001b[0m\n\u001b[1;32m    497\u001b[0m                     custom_objects={\n",
            "\u001b[0;32m/usr/local/lib/python3.10/dist-packages/keras/src/models/sequential.py\u001b[0m in \u001b[0;36mfrom_config\u001b[0;34m(cls, config, custom_objects)\u001b[0m\n\u001b[1;32m    340\u001b[0m                 \u001b[0;31m# Legacy format deserialization (no \"module\" key)\u001b[0m\u001b[0;34m\u001b[0m\u001b[0;34m\u001b[0m\u001b[0m\n\u001b[1;32m    341\u001b[0m                 \u001b[0;31m# used for H5 and SavedModel formats\u001b[0m\u001b[0;34m\u001b[0m\u001b[0;34m\u001b[0m\u001b[0m\n\u001b[0;32m--> 342\u001b[0;31m                 layer = saving_utils.model_from_config(\n\u001b[0m\u001b[1;32m    343\u001b[0m                     \u001b[0mlayer_config\u001b[0m\u001b[0;34m,\u001b[0m\u001b[0;34m\u001b[0m\u001b[0;34m\u001b[0m\u001b[0m\n\u001b[1;32m    344\u001b[0m                     \u001b[0mcustom_objects\u001b[0m\u001b[0;34m=\u001b[0m\u001b[0mcustom_objects\u001b[0m\u001b[0;34m,\u001b[0m\u001b[0;34m\u001b[0m\u001b[0;34m\u001b[0m\u001b[0m\n",
            "\u001b[0;32m/usr/local/lib/python3.10/dist-packages/keras/src/legacy/saving/saving_utils.py\u001b[0m in \u001b[0;36mmodel_from_config\u001b[0;34m(config, custom_objects)\u001b[0m\n\u001b[1;32m     83\u001b[0m     \u001b[0mconfig\u001b[0m \u001b[0;34m=\u001b[0m \u001b[0m_find_replace_nested_dict\u001b[0m\u001b[0;34m(\u001b[0m\u001b[0mconfig\u001b[0m\u001b[0;34m,\u001b[0m \u001b[0;34m\"keras.\"\u001b[0m\u001b[0;34m,\u001b[0m \u001b[0;34m\"keras.\"\u001b[0m\u001b[0;34m)\u001b[0m\u001b[0;34m\u001b[0m\u001b[0;34m\u001b[0m\u001b[0m\n\u001b[1;32m     84\u001b[0m \u001b[0;34m\u001b[0m\u001b[0m\n\u001b[0;32m---> 85\u001b[0;31m     return serialization.deserialize_keras_object(\n\u001b[0m\u001b[1;32m     86\u001b[0m         \u001b[0mconfig\u001b[0m\u001b[0;34m,\u001b[0m\u001b[0;34m\u001b[0m\u001b[0;34m\u001b[0m\u001b[0m\n\u001b[1;32m     87\u001b[0m         \u001b[0mmodule_objects\u001b[0m\u001b[0;34m=\u001b[0m\u001b[0mMODULE_OBJECTS\u001b[0m\u001b[0;34m.\u001b[0m\u001b[0mALL_OBJECTS\u001b[0m\u001b[0;34m,\u001b[0m\u001b[0;34m\u001b[0m\u001b[0;34m\u001b[0m\u001b[0m\n",
            "\u001b[0;32m/usr/local/lib/python3.10/dist-packages/keras/src/legacy/saving/serialization.py\u001b[0m in \u001b[0;36mdeserialize_keras_object\u001b[0;34m(identifier, module_objects, custom_objects, printable_module_name)\u001b[0m\n\u001b[1;32m    471\u001b[0m         \u001b[0;31m# In this case we are dealing with a Keras config dictionary.\u001b[0m\u001b[0;34m\u001b[0m\u001b[0;34m\u001b[0m\u001b[0m\n\u001b[1;32m    472\u001b[0m         \u001b[0mconfig\u001b[0m \u001b[0;34m=\u001b[0m \u001b[0midentifier\u001b[0m\u001b[0;34m\u001b[0m\u001b[0;34m\u001b[0m\u001b[0m\n\u001b[0;32m--> 473\u001b[0;31m         (cls, cls_config) = class_and_config_for_serialized_keras_object(\n\u001b[0m\u001b[1;32m    474\u001b[0m             \u001b[0mconfig\u001b[0m\u001b[0;34m,\u001b[0m \u001b[0mmodule_objects\u001b[0m\u001b[0;34m,\u001b[0m \u001b[0mcustom_objects\u001b[0m\u001b[0;34m,\u001b[0m \u001b[0mprintable_module_name\u001b[0m\u001b[0;34m\u001b[0m\u001b[0;34m\u001b[0m\u001b[0m\n\u001b[1;32m    475\u001b[0m         )\n",
            "\u001b[0;32m/usr/local/lib/python3.10/dist-packages/keras/src/legacy/saving/serialization.py\u001b[0m in \u001b[0;36mclass_and_config_for_serialized_keras_object\u001b[0;34m(config, module_objects, custom_objects, printable_module_name)\u001b[0m\n\u001b[1;32m    352\u001b[0m     )\n\u001b[1;32m    353\u001b[0m     \u001b[0;32mif\u001b[0m \u001b[0mcls\u001b[0m \u001b[0;32mis\u001b[0m \u001b[0;32mNone\u001b[0m\u001b[0;34m:\u001b[0m\u001b[0;34m\u001b[0m\u001b[0;34m\u001b[0m\u001b[0m\n\u001b[0;32m--> 354\u001b[0;31m         raise ValueError(\n\u001b[0m\u001b[1;32m    355\u001b[0m             \u001b[0;34mf\"Unknown {printable_module_name}: '{class_name}'. \"\u001b[0m\u001b[0;34m\u001b[0m\u001b[0;34m\u001b[0m\u001b[0m\n\u001b[1;32m    356\u001b[0m             \u001b[0;34m\"Please ensure you are using a `keras.utils.custom_object_scope` \"\u001b[0m\u001b[0;34m\u001b[0m\u001b[0;34m\u001b[0m\u001b[0m\n",
            "\u001b[0;31mValueError\u001b[0m: Unknown layer: 'KerasLayer'. Please ensure you are using a `keras.utils.custom_object_scope` and that this object is included in the scope. See https://www.tensorflow.org/guide/keras/save_and_serialize#registering_the_custom_object for details."
          ]
        }
      ]
    },
    {
      "cell_type": "code",
      "source": [
        "import tensorflow as tf\n",
        "import tf_keras\n",
        "import tensorflow_hub as hub\n",
        "import numpy as np\n",
        "# Use custom_objects to specify KerasLayer\n",
        "model_initial = tf_keras.models.load_model(\n",
        "    \"/content/drive/MyDrive/neurogenai/initial_model.h5\",\n",
        "    custom_objects={'KerasLayer': hub.KerasLayer}\n",
        ")"
      ],
      "metadata": {
        "id": "0jugqqcGISbs"
      },
      "execution_count": null,
      "outputs": []
    },
    {
      "cell_type": "code",
      "source": [
        "model_tumor = tf_keras.models.load_model(\n",
        "    \"/content/drive/MyDrive/neurogenai/model_tumor.h5\",\n",
        "    custom_objects={'KerasLayer': hub.KerasLayer}\n",
        ")"
      ],
      "metadata": {
        "id": "eGmeC-G5Jg1i"
      },
      "execution_count": null,
      "outputs": []
    },
    {
      "cell_type": "code",
      "source": [
        "model_stroke = tf_keras.models.load_model(\n",
        "    \"/content/drive/MyDrive/neurogenai/model_stroke.h5\",\n",
        "    custom_objects={'KerasLayer': hub.KerasLayer}\n",
        ")"
      ],
      "metadata": {
        "id": "yFFL-J1iJxkU"
      },
      "execution_count": null,
      "outputs": []
    },
    {
      "cell_type": "code",
      "source": [
        "model_alzheimer = tf_keras.models.load_model(\n",
        "    \"/content/drive/MyDrive/neurogenai/model_alzheimer.h5\",\n",
        "    custom_objects={'KerasLayer': hub.KerasLayer}\n",
        ")"
      ],
      "metadata": {
        "id": "eSg7ex7NJ3mU"
      },
      "execution_count": null,
      "outputs": []
    },
    {
      "cell_type": "code",
      "source": [
        "import tensorflow as tf\n",
        "import numpy as np\n",
        "\n",
        "class CombinedDiseaseModel(tf.keras.Model):\n",
        "    def __init__(self, model_initial, model_alzheimer, model_tumor, model_stroke):\n",
        "        super(CombinedDiseaseModel, self).__init__()\n",
        "        self.model_initial = model_initial\n",
        "        self.model_alzheimer = model_alzheimer\n",
        "        self.model_tumor = model_tumor\n",
        "        self.model_stroke = model_stroke\n",
        "        self.disease_labels = [\"Alzheimer's\", 'No Disease', 'Stroke', 'Tumor']\n",
        "\n",
        "        # Define dictionaries to map models to main diseases\n",
        "        self.sub_models = {\n",
        "            \"Alzheimer's\": model_alzheimer,\n",
        "            'Tumor': model_tumor,\n",
        "            'Stroke': model_stroke\n",
        "        }\n",
        "\n",
        "    def call(self, inputs):\n",
        "        # Run model_initial for primary disease classification\n",
        "        initial_probs = self.model_initial(inputs, training=False)\n",
        "        main_disease_idx = tf.argmax(initial_probs, axis=1)\n",
        "        main_disease = self.disease_labels[main_disease_idx[0].numpy()]  # Get predicted main disease label\n",
        "\n",
        "        # Obtain main disease probability\n",
        "        main_disease_prob = initial_probs[0, main_disease_idx[0]].numpy()\n",
        "\n",
        "        # If the predicted main disease is 'Normal', skip sub-models\n",
        "        if main_disease == 'No Disease':\n",
        "            sub_category = \"\"\n",
        "        else:\n",
        "            # Use the corresponding sub-model for sub-category prediction\n",
        "            sub_model = self.sub_models[main_disease]\n",
        "            sub_category_pred = sub_model(inputs, training=False)\n",
        "            sub_category = tf.argmax(sub_category_pred, axis=1).numpy()[0]\n",
        "\n",
        "            # Map subcategory index to label for Alzheimer, Tumor, or Stroke model\n",
        "            if main_disease == \"Alzheimer's\":\n",
        "                sub_category_label = ['Very Mild ', 'Mild ', 'Moderate ']\n",
        "            elif main_disease == 'Tumor':\n",
        "                sub_category_label = ['Glioma ', 'Meningioma ', 'Pituitary ']\n",
        "            elif main_disease == 'Stroke':\n",
        "                sub_category_label = ['Ischemic ', 'Hemorrhagic ']\n",
        "\n",
        "            sub_category = sub_category_label[sub_category]\n",
        "\n",
        "        # Output combined result: main disease probability and sub-category label\n",
        "\n",
        "        return f\"The MRI image shows {sub_category}{main_disease} with a probablity of {main_disease_prob}.\"\n",
        "\n",
        "# Initialize with your trained models\n",
        "combined_model = CombinedDiseaseModel(\n",
        "    model_initial=model_initial,\n",
        "    model_alzheimer=model_alzheimer,\n",
        "    model_tumor=model_tumor,\n",
        "    model_stroke=model_stroke\n",
        ")\n",
        "\n",
        "# Save the combined model to .h5 format using custom objects if needed\n",
        "combined_model.save(\"/content/drive/MyDrive/neurogenai/final/combined_disease_model_save.h5\")\n",
        "combined_model.save(\"/content/drive/MyDrive/neurogenai/final/combined_disease_model_save.keras\")\n",
        "save_path = \"/content/drive/MyDrive/neurogenai/final/\"\n",
        "tf.saved_model.save(combined_model, save_path)"
      ],
      "metadata": {
        "colab": {
          "base_uri": "https://localhost:8080/"
        },
        "id": "H2Np4d1vQxP4",
        "outputId": "e474c99e-b4b2-4f1b-9e79-0937ff4b1b7d"
      },
      "execution_count": null,
      "outputs": [
        {
          "output_type": "stream",
          "name": "stderr",
          "text": [
            "WARNING:absl:You are saving your model as an HDF5 file via `model.save()` or `keras.saving.save_model(model)`. This file format is considered legacy. We recommend using instead the native Keras format, e.g. `model.save('my_model.keras')` or `keras.saving.save_model(model, 'my_model.keras')`. \n",
            "/usr/local/lib/python3.10/dist-packages/keras/src/saving/saving_api.py:102: UserWarning: You are saving a model that has not yet been built. It might not contain any weights yet. Consider building the model first by calling it on some data.\n",
            "  return saving_lib.save_model(model, filepath)\n"
          ]
        }
      ]
    },
    {
      "cell_type": "code",
      "source": [
        "import os\n",
        "os.makedirs(\"/content/drive/MyDrive/neurogenai/final/\")"
      ],
      "metadata": {
        "id": "SEL1iCKNe3dy"
      },
      "execution_count": null,
      "outputs": []
    },
    {
      "cell_type": "code",
      "source": [
        "combined_model(tf.expand_dims(trial[0][0], axis=0))"
      ],
      "metadata": {
        "colab": {
          "base_uri": "https://localhost:8080/",
          "height": 36
        },
        "id": "udSFp6fSZ8FP",
        "outputId": "f1fd5e9a-e184-4889-a769-d369f1174156"
      },
      "execution_count": null,
      "outputs": [
        {
          "output_type": "execute_result",
          "data": {
            "text/plain": [
              "'The MRI image shows Glioma Tumor with a probablity of 0.9999997615814209.'"
            ],
            "application/vnd.google.colaboratory.intrinsic+json": {
              "type": "string"
            }
          },
          "metadata": {},
          "execution_count": 97
        }
      ]
    },
    {
      "cell_type": "code",
      "source": [
        "trial = next(training_stroke)"
      ],
      "metadata": {
        "id": "GyWG4ctDbbV0"
      },
      "execution_count": null,
      "outputs": []
    },
    {
      "cell_type": "code",
      "source": [
        "training_stroke.class_indices"
      ],
      "metadata": {
        "colab": {
          "base_uri": "https://localhost:8080/"
        },
        "id": "A4G5IjsScdDG",
        "outputId": "bbcbd84d-f58d-4c48-e0e9-6ec5c46d0306"
      },
      "execution_count": null,
      "outputs": [
        {
          "output_type": "execute_result",
          "data": {
            "text/plain": [
              "{'glioma': 0, 'menin': 1, 'pituitary': 2}"
            ]
          },
          "metadata": {},
          "execution_count": 87
        }
      ]
    },
    {
      "cell_type": "code",
      "source": [
        "trial[1][0]"
      ],
      "metadata": {
        "colab": {
          "base_uri": "https://localhost:8080/"
        },
        "id": "hu_nD9L-brv9",
        "outputId": "61bcfed9-f480-4919-d6d5-722281fcff74"
      },
      "execution_count": null,
      "outputs": [
        {
          "output_type": "execute_result",
          "data": {
            "text/plain": [
              "0.0"
            ]
          },
          "metadata": {},
          "execution_count": 88
        }
      ]
    },
    {
      "cell_type": "code",
      "source": [],
      "metadata": {
        "id": "hlTq_5iYcYfd"
      },
      "execution_count": null,
      "outputs": []
    }
  ]
}