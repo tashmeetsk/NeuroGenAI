{
  "nbformat": 4,
  "nbformat_minor": 0,
  "metadata": {
    "colab": {
      "provenance": []
    },
    "kernelspec": {
      "name": "python3",
      "display_name": "Python 3"
    },
    "language_info": {
      "name": "python"
    }
  },
  "cells": [
    {
      "cell_type": "code",
      "source": [
        "!pip install requests gradio"
      ],
      "metadata": {
        "colab": {
          "base_uri": "https://localhost:8080/"
        },
        "id": "2xs4ptLLxkEB",
        "outputId": "18dfa36e-6a23-4347-d289-709f54185724"
      },
      "execution_count": 4,
      "outputs": [
        {
          "output_type": "stream",
          "name": "stdout",
          "text": [
            "Requirement already satisfied: requests in /usr/local/lib/python3.10/dist-packages (2.32.3)\n",
            "Collecting gradio\n",
            "  Downloading gradio-5.4.0-py3-none-any.whl.metadata (16 kB)\n",
            "Requirement already satisfied: charset-normalizer<4,>=2 in /usr/local/lib/python3.10/dist-packages (from requests) (3.4.0)\n",
            "Requirement already satisfied: idna<4,>=2.5 in /usr/local/lib/python3.10/dist-packages (from requests) (3.10)\n",
            "Requirement already satisfied: urllib3<3,>=1.21.1 in /usr/local/lib/python3.10/dist-packages (from requests) (2.2.3)\n",
            "Requirement already satisfied: certifi>=2017.4.17 in /usr/local/lib/python3.10/dist-packages (from requests) (2024.8.30)\n",
            "Collecting aiofiles<24.0,>=22.0 (from gradio)\n",
            "  Downloading aiofiles-23.2.1-py3-none-any.whl.metadata (9.7 kB)\n",
            "Requirement already satisfied: anyio<5.0,>=3.0 in /usr/local/lib/python3.10/dist-packages (from gradio) (3.7.1)\n",
            "Collecting fastapi<1.0,>=0.115.2 (from gradio)\n",
            "  Downloading fastapi-0.115.3-py3-none-any.whl.metadata (27 kB)\n",
            "Collecting ffmpy (from gradio)\n",
            "  Downloading ffmpy-0.4.0-py3-none-any.whl.metadata (2.9 kB)\n",
            "Collecting gradio-client==1.4.2 (from gradio)\n",
            "  Downloading gradio_client-1.4.2-py3-none-any.whl.metadata (7.1 kB)\n",
            "Collecting httpx>=0.24.1 (from gradio)\n",
            "  Downloading httpx-0.27.2-py3-none-any.whl.metadata (7.1 kB)\n",
            "Collecting huggingface-hub>=0.25.1 (from gradio)\n",
            "  Downloading huggingface_hub-0.26.1-py3-none-any.whl.metadata (13 kB)\n",
            "Requirement already satisfied: jinja2<4.0 in /usr/local/lib/python3.10/dist-packages (from gradio) (3.1.4)\n",
            "Collecting markupsafe~=2.0 (from gradio)\n",
            "  Downloading MarkupSafe-2.1.5-cp310-cp310-manylinux_2_17_x86_64.manylinux2014_x86_64.whl.metadata (3.0 kB)\n",
            "Requirement already satisfied: numpy<3.0,>=1.0 in /usr/local/lib/python3.10/dist-packages (from gradio) (1.26.4)\n",
            "Collecting orjson~=3.0 (from gradio)\n",
            "  Downloading orjson-3.10.10-cp310-cp310-manylinux_2_17_x86_64.manylinux2014_x86_64.whl.metadata (50 kB)\n",
            "\u001b[2K     \u001b[90m━━━━━━━━━━━━━━━━━━━━━━━━━━━━━━━━━━━━━━━━\u001b[0m \u001b[32m50.6/50.6 kB\u001b[0m \u001b[31m3.2 MB/s\u001b[0m eta \u001b[36m0:00:00\u001b[0m\n",
            "\u001b[?25hRequirement already satisfied: packaging in /usr/local/lib/python3.10/dist-packages (from gradio) (24.1)\n",
            "Requirement already satisfied: pandas<3.0,>=1.0 in /usr/local/lib/python3.10/dist-packages (from gradio) (2.2.2)\n",
            "Requirement already satisfied: pillow<12.0,>=8.0 in /usr/local/lib/python3.10/dist-packages (from gradio) (10.4.0)\n",
            "Requirement already satisfied: pydantic>=2.0 in /usr/local/lib/python3.10/dist-packages (from gradio) (2.9.2)\n",
            "Collecting pydub (from gradio)\n",
            "  Downloading pydub-0.25.1-py2.py3-none-any.whl.metadata (1.4 kB)\n",
            "Collecting python-multipart==0.0.12 (from gradio)\n",
            "  Downloading python_multipart-0.0.12-py3-none-any.whl.metadata (1.9 kB)\n",
            "Requirement already satisfied: pyyaml<7.0,>=5.0 in /usr/local/lib/python3.10/dist-packages (from gradio) (6.0.2)\n",
            "Collecting ruff>=0.2.2 (from gradio)\n",
            "  Downloading ruff-0.7.1-py3-none-manylinux_2_17_x86_64.manylinux2014_x86_64.whl.metadata (25 kB)\n",
            "Collecting safehttpx<1.0,>=0.1.1 (from gradio)\n",
            "  Downloading safehttpx-0.1.1-py3-none-any.whl.metadata (4.1 kB)\n",
            "Collecting semantic-version~=2.0 (from gradio)\n",
            "  Downloading semantic_version-2.10.0-py2.py3-none-any.whl.metadata (9.7 kB)\n",
            "Collecting starlette<1.0,>=0.40.0 (from gradio)\n",
            "  Downloading starlette-0.41.0-py3-none-any.whl.metadata (6.0 kB)\n",
            "Collecting tomlkit==0.12.0 (from gradio)\n",
            "  Downloading tomlkit-0.12.0-py3-none-any.whl.metadata (2.7 kB)\n",
            "Requirement already satisfied: typer<1.0,>=0.12 in /usr/local/lib/python3.10/dist-packages (from gradio) (0.12.5)\n",
            "Requirement already satisfied: typing-extensions~=4.0 in /usr/local/lib/python3.10/dist-packages (from gradio) (4.12.2)\n",
            "Collecting uvicorn>=0.14.0 (from gradio)\n",
            "  Downloading uvicorn-0.32.0-py3-none-any.whl.metadata (6.6 kB)\n",
            "Requirement already satisfied: fsspec in /usr/local/lib/python3.10/dist-packages (from gradio-client==1.4.2->gradio) (2024.6.1)\n",
            "Collecting websockets<13.0,>=10.0 (from gradio-client==1.4.2->gradio)\n",
            "  Downloading websockets-12.0-cp310-cp310-manylinux_2_5_x86_64.manylinux1_x86_64.manylinux_2_17_x86_64.manylinux2014_x86_64.whl.metadata (6.6 kB)\n",
            "Requirement already satisfied: sniffio>=1.1 in /usr/local/lib/python3.10/dist-packages (from anyio<5.0,>=3.0->gradio) (1.3.1)\n",
            "Requirement already satisfied: exceptiongroup in /usr/local/lib/python3.10/dist-packages (from anyio<5.0,>=3.0->gradio) (1.2.2)\n",
            "Collecting httpcore==1.* (from httpx>=0.24.1->gradio)\n",
            "  Downloading httpcore-1.0.6-py3-none-any.whl.metadata (21 kB)\n",
            "Collecting h11<0.15,>=0.13 (from httpcore==1.*->httpx>=0.24.1->gradio)\n",
            "  Downloading h11-0.14.0-py3-none-any.whl.metadata (8.2 kB)\n",
            "Requirement already satisfied: filelock in /usr/local/lib/python3.10/dist-packages (from huggingface-hub>=0.25.1->gradio) (3.16.1)\n",
            "Requirement already satisfied: tqdm>=4.42.1 in /usr/local/lib/python3.10/dist-packages (from huggingface-hub>=0.25.1->gradio) (4.66.5)\n",
            "Requirement already satisfied: python-dateutil>=2.8.2 in /usr/local/lib/python3.10/dist-packages (from pandas<3.0,>=1.0->gradio) (2.8.2)\n",
            "Requirement already satisfied: pytz>=2020.1 in /usr/local/lib/python3.10/dist-packages (from pandas<3.0,>=1.0->gradio) (2024.2)\n",
            "Requirement already satisfied: tzdata>=2022.7 in /usr/local/lib/python3.10/dist-packages (from pandas<3.0,>=1.0->gradio) (2024.2)\n",
            "Requirement already satisfied: annotated-types>=0.6.0 in /usr/local/lib/python3.10/dist-packages (from pydantic>=2.0->gradio) (0.7.0)\n",
            "Requirement already satisfied: pydantic-core==2.23.4 in /usr/local/lib/python3.10/dist-packages (from pydantic>=2.0->gradio) (2.23.4)\n",
            "Requirement already satisfied: click>=8.0.0 in /usr/local/lib/python3.10/dist-packages (from typer<1.0,>=0.12->gradio) (8.1.7)\n",
            "Requirement already satisfied: shellingham>=1.3.0 in /usr/local/lib/python3.10/dist-packages (from typer<1.0,>=0.12->gradio) (1.5.4)\n",
            "Requirement already satisfied: rich>=10.11.0 in /usr/local/lib/python3.10/dist-packages (from typer<1.0,>=0.12->gradio) (13.9.3)\n",
            "Requirement already satisfied: six>=1.5 in /usr/local/lib/python3.10/dist-packages (from python-dateutil>=2.8.2->pandas<3.0,>=1.0->gradio) (1.16.0)\n",
            "Requirement already satisfied: markdown-it-py>=2.2.0 in /usr/local/lib/python3.10/dist-packages (from rich>=10.11.0->typer<1.0,>=0.12->gradio) (3.0.0)\n",
            "Requirement already satisfied: pygments<3.0.0,>=2.13.0 in /usr/local/lib/python3.10/dist-packages (from rich>=10.11.0->typer<1.0,>=0.12->gradio) (2.18.0)\n",
            "Requirement already satisfied: mdurl~=0.1 in /usr/local/lib/python3.10/dist-packages (from markdown-it-py>=2.2.0->rich>=10.11.0->typer<1.0,>=0.12->gradio) (0.1.2)\n",
            "Downloading gradio-5.4.0-py3-none-any.whl (56.7 MB)\n",
            "\u001b[2K   \u001b[90m━━━━━━━━━━━━━━━━━━━━━━━━━━━━━━━━━━━━━━━━\u001b[0m \u001b[32m56.7/56.7 MB\u001b[0m \u001b[31m14.3 MB/s\u001b[0m eta \u001b[36m0:00:00\u001b[0m\n",
            "\u001b[?25hDownloading gradio_client-1.4.2-py3-none-any.whl (319 kB)\n",
            "\u001b[2K   \u001b[90m━━━━━━━━━━━━━━━━━━━━━━━━━━━━━━━━━━━━━━━━\u001b[0m \u001b[32m319.8/319.8 kB\u001b[0m \u001b[31m7.3 MB/s\u001b[0m eta \u001b[36m0:00:00\u001b[0m\n",
            "\u001b[?25hDownloading python_multipart-0.0.12-py3-none-any.whl (23 kB)\n",
            "Downloading tomlkit-0.12.0-py3-none-any.whl (37 kB)\n",
            "Downloading aiofiles-23.2.1-py3-none-any.whl (15 kB)\n",
            "Downloading fastapi-0.115.3-py3-none-any.whl (94 kB)\n",
            "\u001b[2K   \u001b[90m━━━━━━━━━━━━━━━━━━━━━━━━━━━━━━━━━━━━━━━━\u001b[0m \u001b[32m94.6/94.6 kB\u001b[0m \u001b[31m4.7 MB/s\u001b[0m eta \u001b[36m0:00:00\u001b[0m\n",
            "\u001b[?25hDownloading httpx-0.27.2-py3-none-any.whl (76 kB)\n",
            "\u001b[2K   \u001b[90m━━━━━━━━━━━━━━━━━━━━━━━━━━━━━━━━━━━━━━━━\u001b[0m \u001b[32m76.4/76.4 kB\u001b[0m \u001b[31m3.7 MB/s\u001b[0m eta \u001b[36m0:00:00\u001b[0m\n",
            "\u001b[?25hDownloading httpcore-1.0.6-py3-none-any.whl (78 kB)\n",
            "\u001b[2K   \u001b[90m━━━━━━━━━━━━━━━━━━━━━━━━━━━━━━━━━━━━━━━━\u001b[0m \u001b[32m78.0/78.0 kB\u001b[0m \u001b[31m6.3 MB/s\u001b[0m eta \u001b[36m0:00:00\u001b[0m\n",
            "\u001b[?25hDownloading huggingface_hub-0.26.1-py3-none-any.whl (447 kB)\n",
            "\u001b[2K   \u001b[90m━━━━━━━━━━━━━━━━━━━━━━━━━━━━━━━━━━━━━━━━\u001b[0m \u001b[32m447.4/447.4 kB\u001b[0m \u001b[31m9.7 MB/s\u001b[0m eta \u001b[36m0:00:00\u001b[0m\n",
            "\u001b[?25hDownloading MarkupSafe-2.1.5-cp310-cp310-manylinux_2_17_x86_64.manylinux2014_x86_64.whl (25 kB)\n",
            "Downloading orjson-3.10.10-cp310-cp310-manylinux_2_17_x86_64.manylinux2014_x86_64.whl (144 kB)\n",
            "\u001b[2K   \u001b[90m━━━━━━━━━━━━━━━━━━━━━━━━━━━━━━━━━━━━━━━━\u001b[0m \u001b[32m144.5/144.5 kB\u001b[0m \u001b[31m12.1 MB/s\u001b[0m eta \u001b[36m0:00:00\u001b[0m\n",
            "\u001b[?25hDownloading ruff-0.7.1-py3-none-manylinux_2_17_x86_64.manylinux2014_x86_64.whl (11.0 MB)\n",
            "\u001b[2K   \u001b[90m━━━━━━━━━━━━━━━━━━━━━━━━━━━━━━━━━━━━━━━━\u001b[0m \u001b[32m11.0/11.0 MB\u001b[0m \u001b[31m67.8 MB/s\u001b[0m eta \u001b[36m0:00:00\u001b[0m\n",
            "\u001b[?25hDownloading safehttpx-0.1.1-py3-none-any.whl (8.4 kB)\n",
            "Downloading semantic_version-2.10.0-py2.py3-none-any.whl (15 kB)\n",
            "Downloading starlette-0.41.0-py3-none-any.whl (73 kB)\n",
            "\u001b[2K   \u001b[90m━━━━━━━━━━━━━━━━━━━━━━━━━━━━━━━━━━━━━━━━\u001b[0m \u001b[32m73.2/73.2 kB\u001b[0m \u001b[31m6.7 MB/s\u001b[0m eta \u001b[36m0:00:00\u001b[0m\n",
            "\u001b[?25hDownloading uvicorn-0.32.0-py3-none-any.whl (63 kB)\n",
            "\u001b[2K   \u001b[90m━━━━━━━━━━━━━━━━━━━━━━━━━━━━━━━━━━━━━━━━\u001b[0m \u001b[32m63.7/63.7 kB\u001b[0m \u001b[31m5.4 MB/s\u001b[0m eta \u001b[36m0:00:00\u001b[0m\n",
            "\u001b[?25hDownloading ffmpy-0.4.0-py3-none-any.whl (5.8 kB)\n",
            "Downloading pydub-0.25.1-py2.py3-none-any.whl (32 kB)\n",
            "Downloading h11-0.14.0-py3-none-any.whl (58 kB)\n",
            "\u001b[2K   \u001b[90m━━━━━━━━━━━━━━━━━━━━━━━━━━━━━━━━━━━━━━━━\u001b[0m \u001b[32m58.3/58.3 kB\u001b[0m \u001b[31m4.6 MB/s\u001b[0m eta \u001b[36m0:00:00\u001b[0m\n",
            "\u001b[?25hDownloading websockets-12.0-cp310-cp310-manylinux_2_5_x86_64.manylinux1_x86_64.manylinux_2_17_x86_64.manylinux2014_x86_64.whl (130 kB)\n",
            "\u001b[2K   \u001b[90m━━━━━━━━━━━━━━━━━━━━━━━━━━━━━━━━━━━━━━━━\u001b[0m \u001b[32m130.2/130.2 kB\u001b[0m \u001b[31m10.8 MB/s\u001b[0m eta \u001b[36m0:00:00\u001b[0m\n",
            "\u001b[?25hInstalling collected packages: pydub, websockets, tomlkit, semantic-version, ruff, python-multipart, orjson, markupsafe, h11, ffmpy, aiofiles, uvicorn, starlette, huggingface-hub, httpcore, httpx, fastapi, safehttpx, gradio-client, gradio\n",
            "  Attempting uninstall: markupsafe\n",
            "    Found existing installation: MarkupSafe 3.0.2\n",
            "    Uninstalling MarkupSafe-3.0.2:\n",
            "      Successfully uninstalled MarkupSafe-3.0.2\n",
            "  Attempting uninstall: huggingface-hub\n",
            "    Found existing installation: huggingface-hub 0.24.7\n",
            "    Uninstalling huggingface-hub-0.24.7:\n",
            "      Successfully uninstalled huggingface-hub-0.24.7\n",
            "Successfully installed aiofiles-23.2.1 fastapi-0.115.3 ffmpy-0.4.0 gradio-5.4.0 gradio-client-1.4.2 h11-0.14.0 httpcore-1.0.6 httpx-0.27.2 huggingface-hub-0.26.1 markupsafe-2.1.5 orjson-3.10.10 pydub-0.25.1 python-multipart-0.0.12 ruff-0.7.1 safehttpx-0.1.1 semantic-version-2.10.0 starlette-0.41.0 tomlkit-0.12.0 uvicorn-0.32.0 websockets-12.0\n"
          ]
        }
      ]
    },
    {
      "cell_type": "code",
      "source": [
        "from google.colab import drive\n",
        "drive.mount('/content/drive')"
      ],
      "metadata": {
        "colab": {
          "base_uri": "https://localhost:8080/"
        },
        "id": "4wOc3SbFl5ZW",
        "outputId": "9bc19965-1e4e-4fac-93e0-f86bf2cd2562"
      },
      "execution_count": 2,
      "outputs": [
        {
          "output_type": "stream",
          "name": "stdout",
          "text": [
            "Mounted at /content/drive\n"
          ]
        }
      ]
    },
    {
      "cell_type": "code",
      "execution_count": 5,
      "metadata": {
        "id": "X_kufNV351Ys"
      },
      "outputs": [],
      "source": [
        "import requests\n",
        "import pandas as pd\n",
        "import gradio as gr\n",
        "\n",
        "# API key and user ID for the new API\n",
        "api_key = 'KGSjxB1uptfSk8I8A7ciCuNT9Xa3qWC3'\n",
        "external_user_id = 'plugin-1717464304'"
      ]
    },
    {
      "cell_type": "code",
      "source": [
        "# Step 1: Create a chat session\n",
        "def create_chat_session():\n",
        "    create_session_url = 'https://api.on-demand.io/chat/v1/sessions'\n",
        "    create_session_headers = {\n",
        "        'apikey': api_key\n",
        "    }\n",
        "    create_session_body = {\n",
        "        \"pluginIds\": [],\n",
        "        \"externalUserId\": external_user_id\n",
        "    }\n",
        "    # Make the request to create a chat session\n",
        "    response = requests.post(create_session_url, headers=create_session_headers, json=create_session_body)\n",
        "    response_data = response.json()\n",
        "    session_id = response_data['data']['id']\n",
        "    return session_id"
      ],
      "metadata": {
        "id": "HcSNYVn155e1"
      },
      "execution_count": 6,
      "outputs": []
    },
    {
      "cell_type": "code",
      "source": [
        "# Step 2: Submit a query to the API\n",
        "def submit_query(session_id, query):\n",
        "    submit_query_url = f'https://api.on-demand.io/chat/v1/sessions/{session_id}/query'\n",
        "    submit_query_headers = {\n",
        "        'apikey': api_key\n",
        "    }\n",
        "    submit_query_body = {\n",
        "        \"endpointId\": \"predefined-openai-gpt4o\",\n",
        "        \"query\": query,\n",
        "        \"pluginIds\": [\"plugin-1712327325\", \"plugin-1713962163\"],\n",
        "        \"responseMode\": \"sync\"\n",
        "    }\n",
        "    response = requests.post(submit_query_url, headers=submit_query_headers, json=submit_query_body)\n",
        "    return response.json()"
      ],
      "metadata": {
        "id": "m-9RpmR358Gq"
      },
      "execution_count": 7,
      "outputs": []
    },
    {
      "cell_type": "code",
      "source": [
        "# Step 3: Create a prompt with context examples and explicitly ask for diagnosis, treatment, etc.\n",
        "def create_prompt(patient_info, query_type, context_examples):\n",
        "    \"\"\"Creates a well-engineered prompt to ask for diagnosis, most probable diagnosis, treatment, lifestyle modifications, and medications.\"\"\"\n",
        "    prompt_examples = {\n",
        "        \"diagnosis\": \"\"\"Example: A 45-year-old female presents with severe daily headaches, occasional dizziness, and hypertension. MRI shows tumor with 69% probability.\n",
        "        Symptoms: Headaches, dizziness, hypertension, optic nerve swelling\n",
        "        Possible diagnoses: Idiopathic intracranial hypertension (IIH), migraine, pseudotumor cerebri\n",
        "        Most probable diagnosis: IIH due to elevated intracranial pressure\n",
        "        Treatment plan: Acetazolamide to reduce ICP, regular eye exams to monitor for vision changes, weight loss if obesity is a factor.\n",
        "        Lifestyle modifications: Weight loss, low-sodium diet, regular check-ups\n",
        "        Medications: Acetazolamide, aspirin, diuretics if needed\n",
        "        \"\"\",\n",
        "\n",
        "        \"treatment\": \"\"\"Example: A 55-year-old female presents with shortness of breath, chest tightness, and occasional vision disturbances. MRI shows ischemic disease with 80% probability.\n",
        "        Symptoms: Shortness of breath, chest pain, white matter hyperintensities\n",
        "        Possible diagnoses: Transient ischemic attack (TIA), small vessel ischemic disease, coronary artery disease (CAD)\n",
        "        Most probable diagnosis: TIA due to reduced blood flow in the brain\n",
        "        Treatment plan: Aspirin or other anticoagulants, statins for CAD, lifestyle changes to manage hypertension.\n",
        "        Lifestyle modifications: Healthy diet, regular exercise, smoking cessation\n",
        "        Medications: Aspirin, statins, beta-blockers\n",
        "        \"\"\"\n",
        "    }\n",
        "\n",
        "    example = prompt_examples.get(query_type, \"\")\n",
        "    prompt = f\"\"\"\n",
        "    Patient Information: {patient_info}\n",
        "    Please provide the following:\n",
        "    - Diagnosis\n",
        "    - Most probable diagnosis\n",
        "    - Treatment plan\n",
        "    - Lifestyle modifications\n",
        "    - Medications\n",
        "    \"\"\"\n",
        "\n",
        "    return prompt"
      ],
      "metadata": {
        "id": "iRbJ5lET59Fx"
      },
      "execution_count": 8,
      "outputs": []
    },
    {
      "cell_type": "code",
      "source": [
        "# Step 4: Log patient data and responses\n",
        "def log_patient_data(patient_info, query_type, response_text):\n",
        "    \"\"\"Logs patient query and generated response.\"\"\"\n",
        "    log_entry = {\n",
        "        \"patient_info\": patient_info,\n",
        "        \"query_type\": query_type,\n",
        "        \"response\": response_text\n",
        "    }\n",
        "    return log_entry"
      ],
      "metadata": {
        "id": "q54CbMrQ6Fjo"
      },
      "execution_count": 9,
      "outputs": []
    },
    {
      "cell_type": "code",
      "source": [
        "# Step 5: Format the response for better readability and ensure each section is highlighted\n",
        "def format_response(response_text):\n",
        "    \"\"\"Formats the response to improve readability and ensure the diagnosis, treatment plan, etc. are properly displayed.\"\"\"\n",
        "    # Replace \"\\n\\n\" with clear breaks and ensure sections are properly formatted\n",
        "    formatted_response = response_text.replace(\"\\\\n\\\\n\", \"\\n\\n\").replace(\"\\\\n\", \"\\n\")\n",
        "\n",
        "    # Add indentation or section titles for the expected fields\n",
        "    sections = [\"Diagnosis\", \"Most probable diagnosis\", \"Treatment plan\", \"Lifestyle modifications\", \"Medications\"]\n",
        "    for section in sections:\n",
        "        formatted_response = formatted_response.replace(section, f\"\\n--- {section} ---\\n\")\n",
        "\n",
        "    # Optionally, you could enhance readability further with line breaks\n",
        "    formatted_response = \"\\n--- Patient Recommendations ---\\n\" + formatted_response.strip()\n",
        "\n",
        "    print(formatted_response)"
      ],
      "metadata": {
        "id": "IseUMZxo6InL"
      },
      "execution_count": 10,
      "outputs": []
    },
    {
      "cell_type": "code",
      "source": [
        "def submit_query(session_id, query):\n",
        "    \"\"\"Submits a query to the API and returns the response text.\"\"\"\n",
        "    submit_query_url = f'https://api.on-demand.io/chat/v1/sessions/{session_id}/query'\n",
        "    submit_query_headers = {\n",
        "        'apikey': 'KGSjxB1uptfSk8I8A7ciCuNT9Xa3qWC3'\n",
        "    }\n",
        "    submit_query_body = {\n",
        "        \"endpointId\": \"predefined-openai-gpt4o\",\n",
        "        \"query\": query,\n",
        "        \"pluginIds\": [\"plugin-1712327325\", \"plugin-1713962163\"],\n",
        "        \"responseMode\": \"sync\"\n",
        "    }\n",
        "\n",
        "    response = requests.post(submit_query_url, headers=submit_query_headers, json=submit_query_body)\n",
        "\n",
        "    # Debugging - print the entire response\n",
        "    print(f\"Full Response: {response.json()}\")\n",
        "\n",
        "    return response.json()"
      ],
      "metadata": {
        "id": "8I3ZO6VX8Bh-"
      },
      "execution_count": 11,
      "outputs": []
    },
    {
      "cell_type": "code",
      "source": [
        "# Step 6: Generate and submit a query with context examples, log responses\n",
        "def generate_query_response(patient_info, query_type, logs, context_examples):\n",
        "    session_id = create_chat_session()  # Start the session\n",
        "    prompt = create_prompt(patient_info, query_type, context_examples)\n",
        "    print(f\"Generated Prompt: {prompt}\")  # Debugging line\n",
        "    response = submit_query(session_id, prompt)  # Submit the query to the new API\n",
        "\n",
        "    if 'data' in response and 'answer' in response['data']:\n",
        "        answer = response['data']['answer']  # Extract only the 'answer' field\n",
        "        format_response(answer)  # Format and print the answer text\n",
        "        logs.append(log_patient_data(patient_info, query_type, answer))  # Log the answer\n",
        "        return answer\n",
        "    else:\n",
        "        print(\"No valid response received. Please try again.\")"
      ],
      "metadata": {
        "id": "gN31rEV-6K8G"
      },
      "execution_count": 12,
      "outputs": []
    },
    {
      "cell_type": "code",
      "source": [
        "# Context examples (same as before)\n",
        "context_examples = [\n",
        "    {\n",
        "        \"input\": \"A 45-year-old female presents with severe daily headaches, occasional dizziness, and hypertension. MRI shows mild optic nerve swelling.\",\n",
        "        \"output\": \"\"\"\n",
        "        Symptoms: Headaches, dizziness, hypertension, optic nerve swelling\n",
        "        Possible diagnoses: Idiopathic intracranial hypertension (IIH), migraine, pseudotumor cerebri\n",
        "        Most probable diagnosis: Idiopathic intracranial hypertension (IIH)\n",
        "        Management: Acetazolamide to reduce ICP, regular eye exams to monitor for vision changes, weight loss if obesity is a factor\n",
        "        Complications: Permanent vision loss due to prolonged papilledema\n",
        "        \"\"\"\n",
        "    },\n",
        "    {\n",
        "        \"input\": \"A 55-year-old female presents with shortness of breath, chest tightness, and occasional vision disturbances. MRI shows small areas of white matter hyperintensities.\",\n",
        "        \"output\": \"\"\"\n",
        "        Symptoms: Shortness of breath, chest pain, white matter hyperintensities\n",
        "        Possible diagnoses: Transient ischemic attack (TIA), small vessel ischemic disease, coronary artery disease (CAD)\n",
        "        Most probable diagnosis: Transient ischemic attack (TIA)\n",
        "        Treatment: Aspirin or other anticoagulants, statins for CAD, lifestyle changes to manage hypertension\n",
        "        \"\"\"\n",
        "    }\n",
        "]\n"
      ],
      "metadata": {
        "id": "9DBHVMfqzZKK"
      },
      "execution_count": 13,
      "outputs": []
    },
    {
      "cell_type": "code",
      "source": [
        "# Enter your prompts here\n",
        "prompts = [\n",
        "    {\n",
        "        \"patient_info\": \"A 48-year-old male presents with intermittent blurred vision, chronic daily headaches, and nausea, worsening over the past 2 months. MRI shows 66% chance of Glioma Tumor and a 20% chance of ischemic stroke\",\n",
        "        \"query_type\": \"diagnosis\"\n",
        "    },\n",
        "    {\n",
        "        \"patient_info\": \"A 60-year-old male patient has been experiencing intermittent chest pain, shortness of breath, and unexplained dizziness for the past 3 months. MRI results show normal brain conditions\",\n",
        "        \"query_type\": \"treatment\"\n",
        "    }\n",
        "]"
      ],
      "metadata": {
        "id": "56vy87oLzbM8"
      },
      "execution_count": 14,
      "outputs": []
    },
    {
      "cell_type": "code",
      "source": [
        "# Step 7: Execute and get responses for a patient case\n",
        "logs = []\n",
        "patient_info = \"A 60-year-old male patient has been experiencing intermittent chest pain, shortness of breath, and unexplained dizziness for the past 3 months. MRI results show normal brain conditions\"\n",
        "query_type = \"diagnosis\"\n",
        "output = generate_query_response(patient_info, query_type, logs, context_examples)"
      ],
      "metadata": {
        "colab": {
          "base_uri": "https://localhost:8080/"
        },
        "id": "1nN61vpE6OTj",
        "outputId": "bf59420d-c767-4e22-ee19-2bdf0b513e14"
      },
      "execution_count": 15,
      "outputs": [
        {
          "output_type": "stream",
          "name": "stdout",
          "text": [
            "Generated Prompt: \n",
            "    Patient Information: A 60-year-old male patient has been experiencing intermittent chest pain, shortness of breath, and unexplained dizziness for the past 3 months. MRI results show normal brain conditions\n",
            "    Please provide the following:\n",
            "    - Diagnosis\n",
            "    - Most probable diagnosis\n",
            "    - Treatment plan\n",
            "    - Lifestyle modifications\n",
            "    - Medications\n",
            "    \n",
            "Full Response: {'message': 'Chat query submitted successfully', 'data': {'sessionId': '671c5bcbe15d9d1cd49c2449', 'messageId': '671c5bcc50d405f4073889e3', 'answer': '- **Diagnosis**: The symptoms of intermittent chest pain, shortness of breath, and unexplained dizziness in a 60-year-old male are suggestive of a cardiovascular issue, possibly angina or coronary artery disease.\\n\\n- **Most Probable Diagnosis**: Angina pectoris or coronary artery disease.\\n\\n- **Treatment Plan**: \\n  - Lifestyle modifications such as diet changes, regular exercise, and smoking cessation if applicable.\\n  - Medications to manage symptoms and underlying conditions.\\n  - Possible referral to a cardiologist for further evaluation and management, including stress testing or coronary angiography if necessary.\\n\\n- **Lifestyle Modifications**:\\n  - Adopt a heart-healthy diet low in saturated fats, cholesterol, and sodium.\\n  - Engage in regular physical activity, such as walking, for at least 30 minutes most days of the week.\\n  - Maintain a healthy weight.\\n  - Quit smoking and limit alcohol intake.\\n  - Manage stress through relaxation techniques or counseling.\\n\\n- **Medications**:\\n  - Aspirin or other antiplatelet agents to prevent blood clots.\\n  - Statins to lower cholesterol.\\n  - Beta-blockers or calcium channel blockers to manage heart rate and blood pressure.\\n  - Nitroglycerin to relieve chest pain episodes.\\n  - ACE inhibitors or ARBs if there is concurrent high blood pressure or heart failure concerns. \\n\\nIt is important for the patient to follow up with their healthcare provider for personalized medical advice and treatment.', 'metrics': {'inputTokens': 226, 'outputTokens': 297, 'totalTokens': 523, 'ragTimeSec': 0, 'fulfillmentTimeSec': 4.88, 'totalTimeSec': 4.88}, 'status': 'completed'}}\n",
            "\n",
            "--- Patient Recommendations ---\n",
            "- **\n",
            "--- Diagnosis ---\n",
            "**: The symptoms of intermittent chest pain, shortness of breath, and unexplained dizziness in a 60-year-old male are suggestive of a cardiovascular issue, possibly angina or coronary artery disease.\n",
            "\n",
            "- **Most Probable \n",
            "--- Diagnosis ---\n",
            "**: Angina pectoris or coronary artery disease.\n",
            "\n",
            "- **Treatment Plan**: \n",
            "  - \n",
            "--- Lifestyle modifications ---\n",
            " such as diet changes, regular exercise, and smoking cessation if applicable.\n",
            "  - \n",
            "--- Medications ---\n",
            " to manage symptoms and underlying conditions.\n",
            "  - Possible referral to a cardiologist for further evaluation and management, including stress testing or coronary angiography if necessary.\n",
            "\n",
            "- **Lifestyle Modifications**:\n",
            "  - Adopt a heart-healthy diet low in saturated fats, cholesterol, and sodium.\n",
            "  - Engage in regular physical activity, such as walking, for at least 30 minutes most days of the week.\n",
            "  - Maintain a healthy weight.\n",
            "  - Quit smoking and limit alcohol intake.\n",
            "  - Manage stress through relaxation techniques or counseling.\n",
            "\n",
            "- **\n",
            "--- Medications ---\n",
            "**:\n",
            "  - Aspirin or other antiplatelet agents to prevent blood clots.\n",
            "  - Statins to lower cholesterol.\n",
            "  - Beta-blockers or calcium channel blockers to manage heart rate and blood pressure.\n",
            "  - Nitroglycerin to relieve chest pain episodes.\n",
            "  - ACE inhibitors or ARBs if there is concurrent high blood pressure or heart failure concerns. \n",
            "\n",
            "It is important for the patient to follow up with their healthcare provider for personalized medical advice and treatment.\n"
          ]
        }
      ]
    },
    {
      "cell_type": "code",
      "source": [
        "# Step 8: Display log entries\n",
        "for entry in logs:\n",
        "    print(entry)"
      ],
      "metadata": {
        "colab": {
          "base_uri": "https://localhost:8080/"
        },
        "id": "Z1Y_frX-zjtF",
        "outputId": "bf2435b2-a0ef-498c-9c42-b1f600a7f12e"
      },
      "execution_count": 16,
      "outputs": [
        {
          "output_type": "stream",
          "name": "stdout",
          "text": [
            "{'patient_info': 'A 60-year-old male patient has been experiencing intermittent chest pain, shortness of breath, and unexplained dizziness for the past 3 months. MRI results show normal brain conditions', 'query_type': 'diagnosis', 'response': '- **Diagnosis**: The symptoms of intermittent chest pain, shortness of breath, and unexplained dizziness in a 60-year-old male are suggestive of a cardiovascular issue, possibly angina or coronary artery disease.\\n\\n- **Most Probable Diagnosis**: Angina pectoris or coronary artery disease.\\n\\n- **Treatment Plan**: \\n  - Lifestyle modifications such as diet changes, regular exercise, and smoking cessation if applicable.\\n  - Medications to manage symptoms and underlying conditions.\\n  - Possible referral to a cardiologist for further evaluation and management, including stress testing or coronary angiography if necessary.\\n\\n- **Lifestyle Modifications**:\\n  - Adopt a heart-healthy diet low in saturated fats, cholesterol, and sodium.\\n  - Engage in regular physical activity, such as walking, for at least 30 minutes most days of the week.\\n  - Maintain a healthy weight.\\n  - Quit smoking and limit alcohol intake.\\n  - Manage stress through relaxation techniques or counseling.\\n\\n- **Medications**:\\n  - Aspirin or other antiplatelet agents to prevent blood clots.\\n  - Statins to lower cholesterol.\\n  - Beta-blockers or calcium channel blockers to manage heart rate and blood pressure.\\n  - Nitroglycerin to relieve chest pain episodes.\\n  - ACE inhibitors or ARBs if there is concurrent high blood pressure or heart failure concerns. \\n\\nIt is important for the patient to follow up with their healthcare provider for personalized medical advice and treatment.'}\n"
          ]
        }
      ]
    },
    {
      "cell_type": "code",
      "source": [
        "import tensorflow as tf\n",
        "import tf_keras\n",
        "import tensorflow_hub as hub\n",
        "import numpy as np\n",
        "model_initial = tf_keras.models.load_model(\n",
        "    \"/content/drive/MyDrive/neurogenai/initial_model.h5\",\n",
        "    custom_objects={'KerasLayer': hub.KerasLayer}\n",
        ")\n",
        "model_tumor = tf_keras.models.load_model(\n",
        "    \"/content/drive/MyDrive/neurogenai/model_tumor.h5\",\n",
        "    custom_objects={'KerasLayer': hub.KerasLayer}\n",
        ")\n",
        "model_stroke = tf_keras.models.load_model(\n",
        "    \"/content/drive/MyDrive/neurogenai/model_stroke.h5\",\n",
        "    custom_objects={'KerasLayer': hub.KerasLayer}\n",
        ")\n",
        "model_alzheimer = tf_keras.models.load_model(\n",
        "    \"/content/drive/MyDrive/neurogenai/model_alzheimer.h5\",\n",
        "    custom_objects={'KerasLayer': hub.KerasLayer}\n",
        ")\n",
        "\n",
        "class CombinedDiseaseModel(tf.keras.Model):\n",
        "    def __init__(self, model_initial, model_alzheimer, model_tumor, model_stroke):\n",
        "        super(CombinedDiseaseModel, self).__init__()\n",
        "        self.model_initial = model_initial\n",
        "        self.model_alzheimer = model_alzheimer\n",
        "        self.model_tumor = model_tumor\n",
        "        self.model_stroke = model_stroke\n",
        "        self.disease_labels = [\"Alzheimer's\", 'No Disease', 'Stroke', 'Tumor']\n",
        "\n",
        "        # Define dictionaries to map models to main diseases\n",
        "        self.sub_models = {\n",
        "            \"Alzheimer's\": model_alzheimer,\n",
        "            'Tumor': model_tumor,\n",
        "            'Stroke': model_stroke\n",
        "        }\n",
        "\n",
        "    def call(self, inputs):\n",
        "        initial_probs = self.model_initial(inputs, training=False)\n",
        "        main_disease_idx = tf.argmax(initial_probs, axis=1)\n",
        "        main_disease = self.disease_labels[main_disease_idx[0].numpy()]\n",
        "\n",
        "        main_disease_prob = initial_probs[0, main_disease_idx[0]].numpy()\n",
        "\n",
        "        if main_disease == 'No Disease':\n",
        "            sub_category = \"No Disease \"\n",
        "            sub_category_prob = main_disease_prob\n",
        "        else:\n",
        "            sub_model = self.sub_models[main_disease]\n",
        "            sub_category_pred = sub_model(inputs, training=False)\n",
        "            sub_category = tf.argmax(sub_category_pred, axis=1).numpy()[0]\n",
        "            sub_category_prob = sub_category_pred[0, sub_category].numpy()\n",
        "\n",
        "            if main_disease == \"Alzheimer's\":\n",
        "                sub_category_label = ['Very Mild ', 'Mild ', 'Moderate ']\n",
        "            elif main_disease == 'Tumor':\n",
        "                sub_category_label = ['Glioma ', 'Meningioma ', 'Pituitary ']\n",
        "            elif main_disease == 'Stroke':\n",
        "                sub_category_label = ['Ischemic ', 'Hemorrhagic ']\n",
        "\n",
        "            sub_category = sub_category_label[sub_category]\n",
        "\n",
        "        return f\"The MRI image shows {main_disease} with a probablity of {main_disease_prob*100 :.3f}%.\\nThe subcategory of {main_disease} is {sub_category}with a probability of {sub_category_prob*100 :.3f}%.\"\n",
        "\n",
        "cnn_model = CombinedDiseaseModel(\n",
        "    model_initial=model_initial,\n",
        "    model_alzheimer=model_alzheimer,\n",
        "    model_tumor=model_tumor,\n",
        "    model_stroke=model_stroke\n",
        ")"
      ],
      "metadata": {
        "id": "UmLmAO5kqC4E"
      },
      "execution_count": 3,
      "outputs": []
    },
    {
      "cell_type": "code",
      "source": [
        "import gradio as gr\n",
        "import numpy as np\n",
        "import tensorflow as tf\n",
        "import tf_keras\n",
        "from PIL import Image\n",
        "\n",
        "\n",
        "def process_image(image):\n",
        "    image = image.resize((256, 256))\n",
        "    image.convert(\"RGB\")\n",
        "    image_array = np.array(image) / 255.0\n",
        "    image_array = np.expand_dims(image_array, axis=0)\n",
        "\n",
        "    predictions = cnn_model(image_array)\n",
        "\n",
        "    return predictions\n",
        "\n",
        "# Step 7: Create a Gradio interface\n",
        "def gradio_interface(patient_info, query_type, image):\n",
        "    global logs\n",
        "    logs = []\n",
        "\n",
        "    if image is not None:\n",
        "        image_response = process_image(image)\n",
        "\n",
        "    response = generate_query_response(patient_info+image_response, query_type, logs, context_examples)\n",
        "\n",
        "    response += \"\\n\" + \"\\n\" + image_response\n",
        "\n",
        "    if response is not None:\n",
        "        return response\n",
        "    else:\n",
        "        return \"An error occurred while generating the response.\"\n",
        "\n",
        "# Create Gradio app with enhanced layout\n",
        "iface = gr.Interface(\n",
        "    fn=gradio_interface,\n",
        "    inputs=[\n",
        "        gr.Textbox(\n",
        "            label=\"Patient Information\",\n",
        "            placeholder=\"Enter patient details here...\",\n",
        "            lines=5,\n",
        "            max_lines=10\n",
        "        ),\n",
        "        gr.Textbox(\n",
        "            label=\"Query Type\"\n",
        "        ),\n",
        "        gr.Image(\n",
        "            type=\"pil\",\n",
        "            label=\"Upload an Image\",\n",
        "        )\n",
        "    ],\n",
        "    outputs=gr.Textbox(label=\"Response\", placeholder=\"The response will appear here...\"),\n",
        "    title=\"Medical Query Interface\",\n",
        "    description=\"Enter patient information and select query type to get diagnosis and treatment recommendations.\",\n",
        "    css=\"\"\"\n",
        "        .input-textbox {\n",
        "            border-radius: 8px;\n",
        "            border: 2px solid #007bff;\n",
        "            font-size: 16px;\n",
        "        }\n",
        "        .output-textbox {\n",
        "            border-radius: 8px;\n",
        "            border: 2px solid #007bff;\n",
        "            background-color: #f9f9f9;\n",
        "            font-size: 16px;\n",
        "        }\n",
        "        .gr-button {\n",
        "            background-color: #007bff;\n",
        "            color: white;\n",
        "            border-radius: 8px;\n",
        "        }\n",
        "        .gr-button:hover {\n",
        "            background-color: #0056b3;\n",
        "        }\n",
        "    \"\"\"\n",
        ")\n",
        "\n",
        "iface.launch()"
      ],
      "metadata": {
        "colab": {
          "base_uri": "https://localhost:8080/",
          "height": 650
        },
        "id": "YtUPUh5IlCWG",
        "outputId": "de0b1aea-9909-4e52-86c9-f95130f800d3"
      },
      "execution_count": 17,
      "outputs": [
        {
          "output_type": "stream",
          "name": "stdout",
          "text": [
            "Running Gradio in a Colab notebook requires sharing enabled. Automatically setting `share=True` (you can turn this off by setting `share=False` in `launch()` explicitly).\n",
            "\n",
            "Colab notebook detected. To show errors in colab notebook, set debug=True in launch()\n",
            "* Running on public URL: https://54f08371d760a15bb0.gradio.live\n",
            "\n",
            "This share link expires in 72 hours. For free permanent hosting and GPU upgrades, run `gradio deploy` from the terminal in the working directory to deploy to Hugging Face Spaces (https://huggingface.co/spaces)\n"
          ]
        },
        {
          "output_type": "display_data",
          "data": {
            "text/plain": [
              "<IPython.core.display.HTML object>"
            ],
            "text/html": [
              "<div><iframe src=\"https://54f08371d760a15bb0.gradio.live\" width=\"100%\" height=\"500\" allow=\"autoplay; camera; microphone; clipboard-read; clipboard-write;\" frameborder=\"0\" allowfullscreen></iframe></div>"
            ]
          },
          "metadata": {}
        },
        {
          "output_type": "execute_result",
          "data": {
            "text/plain": []
          },
          "metadata": {},
          "execution_count": 17
        }
      ]
    },
    {
      "cell_type": "code",
      "source": [],
      "metadata": {
        "id": "tl0YMHTxpzDh"
      },
      "execution_count": null,
      "outputs": []
    }
  ]
}